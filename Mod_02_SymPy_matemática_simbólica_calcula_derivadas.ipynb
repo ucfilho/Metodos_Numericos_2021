{
  "nbformat": 4,
  "nbformat_minor": 0,
  "metadata": {
    "colab": {
      "name": "Mod_02_SymPy_matemática_simbólica_calcula_derivadas.ipynb",
      "provenance": [],
      "authorship_tag": "ABX9TyN7lmcr8Vs8yvbi0GEHt8IE",
      "include_colab_link": true
    },
    "kernelspec": {
      "name": "python3",
      "display_name": "Python 3"
    },
    "language_info": {
      "name": "python"
    }
  },
  "cells": [
    {
      "cell_type": "markdown",
      "metadata": {
        "id": "view-in-github",
        "colab_type": "text"
      },
      "source": [
        "<a href=\"https://colab.research.google.com/github/ucfilho/Metodos_Numericos_2021/blob/main/Mod_02_SymPy_matem%C3%A1tica_simb%C3%B3lica_calcula_derivadas.ipynb\" target=\"_parent\"><img src=\"https://colab.research.google.com/assets/colab-badge.svg\" alt=\"Open In Colab\"/></a>"
      ]
    },
    {
      "cell_type": "code",
      "metadata": {
        "id": "Avr0vVjSVp4B"
      },
      "source": [
        "import numpy as np\n",
        "from sympy import diff, sin, cos, exp, pi\n",
        "from sympy.abc import x,y "
      ],
      "execution_count": null,
      "outputs": []
    },
    {
      "cell_type": "code",
      "metadata": {
        "colab": {
          "base_uri": "https://localhost:8080/",
          "height": 38
        },
        "id": "5PkU-jLYV4dT",
        "outputId": "ea5d7096-96e2-4095-b906-fd80b6d9eb6e"
      },
      "source": [
        "expr=x*sin(x*x)+1\n",
        "diff(expr,x)"
      ],
      "execution_count": null,
      "outputs": [
        {
          "output_type": "execute_result",
          "data": {
            "text/latex": "$\\displaystyle 2 x^{2} \\cos{\\left(x^{2} \\right)} + \\sin{\\left(x^{2} \\right)}$",
            "text/plain": [
              "2*x**2*cos(x**2) + sin(x**2)"
            ]
          },
          "metadata": {
            "tags": []
          },
          "execution_count": 2
        }
      ]
    },
    {
      "cell_type": "code",
      "metadata": {
        "id": "fSQIixanWWdf"
      },
      "source": [
        "F1=x**2 - y + x*cos(pi*x)\n",
        "F2=x*y + exp(y) - x**(-1.0)\n"
      ],
      "execution_count": null,
      "outputs": []
    },
    {
      "cell_type": "code",
      "metadata": {
        "colab": {
          "base_uri": "https://localhost:8080/",
          "height": 38
        },
        "id": "QwN74cybWvco",
        "outputId": "0cc608c1-a0f5-41d7-ae00-85945d75abc8"
      },
      "source": [
        "diff(F1,x)"
      ],
      "execution_count": null,
      "outputs": [
        {
          "output_type": "execute_result",
          "data": {
            "text/latex": "$\\displaystyle - \\pi x \\sin{\\left(\\pi x \\right)} + 2 x + \\cos{\\left(\\pi x \\right)}$",
            "text/plain": [
              "-pi*x*sin(pi*x) + 2*x + cos(pi*x)"
            ]
          },
          "metadata": {
            "tags": []
          },
          "execution_count": 4
        }
      ]
    },
    {
      "cell_type": "code",
      "metadata": {
        "colab": {
          "base_uri": "https://localhost:8080/",
          "height": 37
        },
        "id": "1qFtKKAtWqV-",
        "outputId": "0724e191-9bd9-471b-9104-a84acf922ef4"
      },
      "source": [
        "diff(F1,y)"
      ],
      "execution_count": null,
      "outputs": [
        {
          "output_type": "execute_result",
          "data": {
            "text/latex": "$\\displaystyle -1$",
            "text/plain": [
              "-1"
            ]
          },
          "metadata": {
            "tags": []
          },
          "execution_count": 5
        }
      ]
    },
    {
      "cell_type": "code",
      "metadata": {
        "colab": {
          "base_uri": "https://localhost:8080/",
          "height": 51
        },
        "id": "CdiuCShLWxVk",
        "outputId": "c71a4713-727a-4c11-e1d7-fbddbf1152f1"
      },
      "source": [
        "diff(F2,x)"
      ],
      "execution_count": null,
      "outputs": [
        {
          "output_type": "execute_result",
          "data": {
            "text/latex": "$\\displaystyle \\frac{1.0}{x^{2.0}} + y$",
            "text/plain": [
              "1.0*x**(-2.0) + y"
            ]
          },
          "metadata": {
            "tags": []
          },
          "execution_count": 6
        }
      ]
    },
    {
      "cell_type": "code",
      "metadata": {
        "colab": {
          "base_uri": "https://localhost:8080/",
          "height": 38
        },
        "id": "0VmaDPLPWzfX",
        "outputId": "338d9178-ca10-4f36-9b43-982f94cd8755"
      },
      "source": [
        "diff(F2,y)"
      ],
      "execution_count": null,
      "outputs": [
        {
          "output_type": "execute_result",
          "data": {
            "text/latex": "$\\displaystyle x + e^{y}$",
            "text/plain": [
              "x + exp(y)"
            ]
          },
          "metadata": {
            "tags": []
          },
          "execution_count": 8
        }
      ]
    }
  ]
}