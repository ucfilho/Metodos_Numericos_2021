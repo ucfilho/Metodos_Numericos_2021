{
  "nbformat": 4,
  "nbformat_minor": 0,
  "metadata": {
    "colab": {
      "name": "Mod_03_class_14_Shooting Methods  PVC OUT 20 2020.ipynb",
      "provenance": [],
      "authorship_tag": "ABX9TyMrWmxj12NVU00RD1F+riwm",
      "include_colab_link": true
    },
    "kernelspec": {
      "name": "python3",
      "display_name": "Python 3"
    }
  },
  "cells": [
    {
      "cell_type": "markdown",
      "metadata": {
        "id": "view-in-github",
        "colab_type": "text"
      },
      "source": [
        "<a href=\"https://colab.research.google.com/github/ucfilho/Metodos_Numericos_2021/blob/main/Mod_03_class_12_Shooting_Methods_PVC_jun_01_2021.ipynb\" target=\"_parent\"><img src=\"https://colab.research.google.com/assets/colab-badge.svg\" alt=\"Open In Colab\"/></a>"
      ]
    },
    {
      "cell_type": "code",
      "metadata": {
        "id": "3D1XSVd6YCGz"
      },
      "source": [
        "# http://acme.byu.edu/wp-content/uploads/2016/01/Lab-3-Shooting.pdf"
      ],
      "execution_count": null,
      "outputs": []
    },
    {
      "cell_type": "code",
      "metadata": {
        "id": "VmlLyJfIUde7",
        "colab": {
          "base_uri": "https://localhost:8080/",
          "height": 265
        },
        "outputId": "c0f5a46b-c1be-410c-e3dc-c37cdb5cc9ff"
      },
      "source": [
        "import numpy as np\n",
        "from scipy.integrate import odeint\n",
        "from matplotlib import pyplot as plt\n",
        "4\n",
        "# y'' +4y = -9sin(x), y(0) = 1., y(3*pi/4.) = -(1.+3*sqrt(2))/2., y'(0) = -2\n",
        "6 # Exact Solution: y(x) = cos(2x) + (1/2)sin(2x) - 3sin(x)\n",
        "def find_t(f,a,b,alpha,beta,t0,t1,maxI):\n",
        "    sol1 = 0\n",
        "    i = 0\n",
        "    while abs(sol1-beta) > 10**-8 and i < maxI:\n",
        "      sol0 = odeint(f,np.array([alpha,t0]), [a,b],atol=1e-10)[1,0]\n",
        "\n",
        "      sol1 = odeint(f,np.array([alpha,t1]), [a,b],atol=1e-10)[1,0]\n",
        "      t2 = t1 - (sol1 - beta)*(t1-t0)/(sol1-sol0)\n",
        "      t0 = t1\n",
        "      t1 = t2\n",
        "      i = i+1\n",
        "    if i == maxI:\n",
        "      print(\"t not found\")\n",
        "    return t2\n",
        "\n",
        "\n",
        "def solveSecant(f,X,a,b,alpha,beta,t0,t1,maxI):\n",
        "  t = find_t(f,a,b,alpha,beta,t0,t1,maxI)\n",
        "  sol = odeint(f,np.array([alpha,t]), X,atol=1e-10)[:,0]\n",
        "  return sol\n",
        "\n",
        "def ode(y,x):\n",
        "  return np.array([y[1], -4*y[0]-9*np.sin(x)])\n",
        "\n",
        "X = np.linspace(0,3*np.pi/4,20)\n",
        "Y = solveSecant(ode,X,0,3*np.pi/4,1,-(1.+3*np.sqrt(2)) /2, (1+(1.+3*np.sqrt(2)) /2)/(-3*np.pi/4),-1,40)\n",
        "plt.plot(X,Y,'-k',linewidth=2)\n",
        "plt.show()"
      ],
      "execution_count": null,
      "outputs": [
        {
          "output_type": "display_data",
          "data": {
            "image/png": "[encoded data removed]",
            "text/plain": [
              "<Figure size 432x288 with 1 Axes>"
            ]
          },
          "metadata": {
            "tags": [],
            "needs_background": "light"
          }
        }
      ]
    }
  ]
}