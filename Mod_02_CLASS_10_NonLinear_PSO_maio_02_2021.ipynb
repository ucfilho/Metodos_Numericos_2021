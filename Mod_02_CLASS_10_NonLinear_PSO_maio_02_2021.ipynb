{
  "nbformat": 4,
  "nbformat_minor": 0,
  "metadata": {
    "colab": {
      "name": "Mod_02_CLASS_10_NonLinear_PSO_maio_02_2021.ipynb",
      "provenance": [],
      "include_colab_link": true
    },
    "kernelspec": {
      "name": "python3",
      "display_name": "Python 3"
    }
  },
  "cells": [
    {
      "cell_type": "markdown",
      "metadata": {
        "id": "view-in-github",
        "colab_type": "text"
      },
      "source": [
        "<a href=\"https://colab.research.google.com/github/ucfilho/Metodos_Numericos_2021/blob/main/Mod_02_CLASS_10_NonLinear_PSO_maio_02_2021.ipynb\" target=\"_parent\"><img src=\"https://colab.research.google.com/assets/colab-badge.svg\" alt=\"Open In Colab\"/></a>"
      ]
    },
    {
      "cell_type": "markdown",
      "metadata": {
        "id": "pi-6krrxnzzs"
      },
      "source": [
        "Solving multiple nonlinear algebraic equation"
      ]
    },
    {
      "cell_type": "markdown",
      "metadata": {
        "id": "g-DT2RuBmW8w"
      },
      "source": [
        "\n",
        "\n",
        "<p>Problema a ser resolvido (exemplo)</p>\n",
        "\n",
        "\\begin{split}F_0(x_0,x_1) &= x^2 - y + x\\cos(\\pi x) = 0,\\\\\n",
        "F_1(x_0,x_1) &= yx + e^{-y} - x^{-1} = 0\\thinspace .\\end{split}"
      ]
    },
    {
      "cell_type": "code",
      "metadata": {
        "id": "rC-9DpuS7_SQ"
      },
      "source": [
        "import numpy as np\n",
        "from numpy import cos, sin, pi, exp"
      ],
      "execution_count": 1,
      "outputs": []
    },
    {
      "cell_type": "code",
      "metadata": {
        "id": "_DjrsLW8bwbm"
      },
      "source": [
        "def FUNCTION(x):\n",
        "  F =np.zeros(2)\n",
        "  F[0] = x[0]**2 - x[1] + x[0]*cos(pi*x[0])\n",
        "  F[1] = x[0]*x[1] + exp(-x[1]) - x[0]**(-1.0)\n",
        "   \n",
        "  Num = len(F)\n",
        "  List = []\n",
        "  \n",
        "  for i in F:\n",
        "    List.append(abs(i))\n",
        "  \n",
        "  Max = np.max(np.array(List))\n",
        "\n",
        "  return Max\n",
        "      "
      ],
      "execution_count": 2,
      "outputs": []
    },
    {
      "cell_type": "code",
      "metadata": {
        "id": "RDneMeuE8P1x"
      },
      "source": [
        "import numpy as np\n",
        "\n",
        "\n",
        "def Enxame(PAR,NPAR,MAX,MIN):\n",
        "    x=np.zeros((NPAR, len(MAX)))\n",
        "    for j in range(len(MAX)):\n",
        "        for i in range(NPAR):\n",
        "            x[i,j]=MIN[j]+(MAX[j]-MIN[j])*np.random.random()\n",
        "    return x\n",
        "\n",
        "def OBJ(x):\n",
        "    rows = len(x)\n",
        "    cols = len(x[0])\n",
        "    fobj=np.zeros(rows)\n",
        "    for i in range(rows):\n",
        "        for j in range(cols):\n",
        "            fobj[i]=FUNCTION(x[i,])\n",
        "    return fobj\n",
        "    # return fobj.min()\n",
        "\n",
        "def VALOR(x):\n",
        "    fob=FUNCTION(x)\n",
        "    return fob\n",
        "\n",
        "def BEST(X,RBEST):\n",
        "    rows = len(X)\n",
        "    cols = len(X[0])\n",
        "    YCAL=OBJ(X)\n",
        "    NEW=VALOR(RBEST)\n",
        "    for i in range(rows):\n",
        "        for j in range(cols):\n",
        "            if(YCAL[i]<NEW):\n",
        "                RBEST[j]=X[i,j]\n",
        "    return RBEST\n",
        "\n",
        "def PART(X,PBEST):\n",
        "    rows = len(X)\n",
        "    cols = len(X[0])\n",
        "    YCAL=OBJ(PBEST)\n",
        "    NEW=OBJ(X).min()\n",
        "    for i in range(rows):\n",
        "        for j in range(cols):\n",
        "            if(YCAL[i]>NEW):\n",
        "                PBEST[i,j]=X[i,j]\n",
        "    return PBEST\n",
        "\n",
        "def VE(X,VEL,BEST,PBEST,W,C1,C2):\n",
        "    rows = len(X)\n",
        "    cols = len(X[0])\n",
        "    for i in range(rows):\n",
        "        for j in range(cols):\n",
        "            R1=np.random.random()\n",
        "            R2=np.random.random()\n",
        "            VEL[i,j]=W*VEL[i,j]+C1*R1*(PBEST[i,j]-X[i,j])+C2*R2*(BEST[j]-X[i,j])\n",
        "            X[i,j]=X[i,j]+VEL[i,j]\n",
        "    return VEL,X\n",
        "\n",
        "\n",
        "def PSO(W,C1,C2,NPAR,ITE,PAR,MAX,MIN):\n",
        "    X=Enxame(PAR,NPAR,MAX,MIN) # CRIA A POPULACAO\n",
        "    ycal=OBJ(X) # CALCULA A FUNCAO OBJETIVO PARA TODAS PARTICULAS\n",
        "    PBEST=PART(X,X) # O MELHOR LOCAL DE CADA PARTICULA INICIALMENTE ALEATORIA\n",
        "    VBEST=[]\n",
        "    for i in range(PAR):\n",
        "        VBEST.append(1e10)\n",
        "    VBEST=BEST(X,VBEST)\n",
        "    VELOC=Enxame(PAR,NPAR,MAX,MIN)# VELOCIDADES INICIALMENTE ALEATORIAS\n",
        "    RESP=[]\n",
        "    for k in range(ITE):\n",
        "        yteste=VALOR(VBEST)\n",
        "        VELOC, X=VE(X,VELOC,VBEST,PBEST,W,C1,C2)\n",
        "        VBEST=BEST(X,VBEST)\n",
        "        PBEST=PART(X,PBEST)\n",
        "        yteste=VALOR(VBEST)\n",
        "        RESP.append(yteste)\n",
        "    return RESP,VBEST"
      ],
      "execution_count": 3,
      "outputs": []
    },
    {
      "cell_type": "code",
      "metadata": {
        "colab": {
          "base_uri": "https://localhost:8080/"
        },
        "id": "omoawV0m1n31",
        "outputId": "abbf0552-7b2d-4484-cb1b-bc0d44521482"
      },
      "source": [
        "W=0.75\n",
        "C1=2\n",
        "C2=2\n",
        "NPAR=100 #PARTICULAS\n",
        "ITE=100 #ITERACOES\n",
        "PAR=2 #NUM DE PARAMETROS A SER OTIMIZADOS\n",
        "MAX=[5,5] # MAXIMO DE CADA PARAMETRO\n",
        "MIN=[-5,-5] # MINIMO DE CADA PARAMETRO\n",
        "\n",
        "#resp=PSOnew.PSO(W,C1,C2,NPAR,ITE,PAR,MAX,MIN)\n",
        "resp,best= PSO(W,C1,C2,NPAR,ITE,PAR,MAX,MIN)\n",
        "\n",
        "for i in range(ITE):\n",
        "    if((i+1)%10==0):\n",
        "        print(\"iteracao=\",i+1,\"f obj=\",resp[i])\n",
        "print(best)"
      ],
      "execution_count": 4,
      "outputs": [
        {
          "output_type": "stream",
          "text": [
            "iteracao= 10 f obj= 0.40112380587685603\n",
            "iteracao= 20 f obj= 0.027556485145752374\n",
            "iteracao= 30 f obj= 0.026265460661989204\n",
            "iteracao= 40 f obj= 0.0032021351611867255\n",
            "iteracao= 50 f obj= 0.0032021351611867255\n",
            "iteracao= 60 f obj= 0.001616537046287947\n",
            "iteracao= 70 f obj= 0.0004348728292367099\n",
            "iteracao= 80 f obj= 0.00012387540014058285\n",
            "iteracao= 90 f obj= 3.58815364385201e-05\n",
            "iteracao= 100 f obj= 2.8057257299707317e-06\n",
            "[1.00000049633946, -2.3093848080966492e-06]\n"
          ],
          "name": "stdout"
        }
      ]
    },
    {
      "cell_type": "code",
      "metadata": {
        "id": "6HHKwk1qHGcu"
      },
      "source": [
        ""
      ],
      "execution_count": 4,
      "outputs": []
    }
  ]
}