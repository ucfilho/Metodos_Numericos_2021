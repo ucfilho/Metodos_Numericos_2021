{
  "nbformat": 4,
  "nbformat_minor": 0,
  "metadata": {
    "colab": {
      "name": "Mod_03_class_02_edo_monoxido_maio_11_2021.ipynb",
      "provenance": [],
      "authorship_tag": "ABX9TyM5beMbwKrnPl29D1m5WcFc",
      "include_colab_link": true
    },
    "kernelspec": {
      "name": "python3",
      "display_name": "Python 3"
    },
    "language_info": {
      "name": "python"
    }
  },
  "cells": [
    {
      "cell_type": "markdown",
      "metadata": {
        "id": "view-in-github",
        "colab_type": "text"
      },
      "source": [
        "<a href=\"https://colab.research.google.com/github/ucfilho/Metodos_Numericos_2021/blob/main/Mod_03_class_02_edo_monoxido_maio_11_2021.ipynb\" target=\"_parent\"><img src=\"https://colab.research.google.com/assets/colab-badge.svg\" alt=\"Open In Colab\"/></a>"
      ]
    },
    {
      "cell_type": "code",
      "metadata": {
        "id": "SiYPs0x7ncQj"
      },
      "source": [
        "import matplotlib.pyplot as plt\n",
        "import numpy as np"
      ],
      "execution_count": 1,
      "outputs": []
    },
    {
      "cell_type": "code",
      "metadata": {
        "colab": {
          "base_uri": "https://localhost:8080/"
        },
        "id": "mvqRFZ5snTxy",
        "outputId": "12d8e138-06a4-4148-c6d2-195858582b42"
      },
      "source": [
        "!git clone https://github.com/ucfilho/Metodos_Numericos_2021 #clonar do Github\n",
        "%cd Metodos_Numericos_2021"
      ],
      "execution_count": 2,
      "outputs": [
        {
          "output_type": "stream",
          "text": [
            "fatal: destination path 'Metodos_Numericos_2021' already exists and is not an empty directory.\n",
            "/content/Metodos_Numericos_2021\n"
          ],
          "name": "stdout"
        }
      ]
    },
    {
      "cell_type": "code",
      "metadata": {
        "id": "vKwQnrOhpBh0"
      },
      "source": [
        "from edo_rk4 import rk4"
      ],
      "execution_count": 3,
      "outputs": []
    },
    {
      "cell_type": "code",
      "metadata": {
        "colab": {
          "base_uri": "https://localhost:8080/",
          "height": 262
        },
        "id": "zUr4OC6JnmTp",
        "outputId": "5ffcc1fb-ac7e-42bf-f131-51076e22fa6f"
      },
      "source": [
        "def f( x, t ):\n",
        "  Q1 = 0.005\n",
        "  Q2 = 0.8\n",
        "  Vol = 80\n",
        "  derivada = Q1 - Q2*x/Vol\n",
        "\n",
        "  return derivada\n",
        "      \n",
        "\n",
        "a, b = ( 0.0, 10.0 )\n",
        "x0 = 0.0\n",
        "\n",
        "n = 51\n",
        "t = np.linspace( a, b, n )\n",
        "h = t[1] - t[0];\n",
        "print('h =',h)\n",
        "\n",
        "# compute various numerical solutions\n",
        "x = rk4( f, x0, t )\n",
        "\n",
        "plt.plot(t,x)"
      ],
      "execution_count": 4,
      "outputs": [
        {
          "output_type": "stream",
          "text": [
            "h = 0.2\n"
          ],
          "name": "stdout"
        },
        {
          "output_type": "error",
          "ename": "NameError",
          "evalue": "ignored",
          "traceback": [
            "\u001b[0;31m---------------------------------------------------------------------------\u001b[0m",
            "\u001b[0;31mNameError\u001b[0m                                 Traceback (most recent call last)",
            "\u001b[0;32m<ipython-input-4-d6c8df6f4929>\u001b[0m in \u001b[0;36m<module>\u001b[0;34m()\u001b[0m\n\u001b[1;32m     17\u001b[0m \u001b[0;34m\u001b[0m\u001b[0m\n\u001b[1;32m     18\u001b[0m \u001b[0;31m# compute various numerical solutions\u001b[0m\u001b[0;34m\u001b[0m\u001b[0;34m\u001b[0m\u001b[0;34m\u001b[0m\u001b[0m\n\u001b[0;32m---> 19\u001b[0;31m \u001b[0mx\u001b[0m \u001b[0;34m=\u001b[0m \u001b[0medo_rk4\u001b[0m\u001b[0;34m(\u001b[0m \u001b[0mf\u001b[0m\u001b[0;34m,\u001b[0m \u001b[0mx0\u001b[0m\u001b[0;34m,\u001b[0m \u001b[0mt\u001b[0m \u001b[0;34m)\u001b[0m\u001b[0;34m\u001b[0m\u001b[0;34m\u001b[0m\u001b[0m\n\u001b[0m\u001b[1;32m     20\u001b[0m \u001b[0;34m\u001b[0m\u001b[0m\n\u001b[1;32m     21\u001b[0m \u001b[0mplt\u001b[0m\u001b[0;34m.\u001b[0m\u001b[0mplot\u001b[0m\u001b[0;34m(\u001b[0m\u001b[0mt\u001b[0m\u001b[0;34m,\u001b[0m\u001b[0mx\u001b[0m\u001b[0;34m)\u001b[0m\u001b[0;34m\u001b[0m\u001b[0;34m\u001b[0m\u001b[0m\n",
            "\u001b[0;31mNameError\u001b[0m: name 'edo_rk4' is not defined"
          ]
        }
      ]
    }
  ]
}