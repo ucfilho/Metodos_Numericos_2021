{
  "nbformat": 4,
  "nbformat_minor": 0,
  "metadata": {
    "colab": {
      "name": "Mod_03_class_02_edo_monoxido_maio_11_2021.ipynb",
      "provenance": [],
      "authorship_tag": "ABX9TyOd8yT1PkHddKSGq4jdKWae",
      "include_colab_link": true
    },
    "kernelspec": {
      "name": "python3",
      "display_name": "Python 3"
    },
    "language_info": {
      "name": "python"
    }
  },
  "cells": [
    {
      "cell_type": "markdown",
      "metadata": {
        "id": "view-in-github",
        "colab_type": "text"
      },
      "source": [
        "<a href=\"https://colab.research.google.com/github/ucfilho/Metodos_Numericos_2021/blob/main/Mod_03_class_02_edo_monoxido_maio_11_2021.ipynb\" target=\"_parent\"><img src=\"https://colab.research.google.com/assets/colab-badge.svg\" alt=\"Open In Colab\"/></a>"
      ]
    },
    {
      "cell_type": "code",
      "metadata": {
        "id": "SiYPs0x7ncQj"
      },
      "source": [
        "import matplotlib.pyplot as plt\n",
        "import numpy as np"
      ],
      "execution_count": 1,
      "outputs": []
    },
    {
      "cell_type": "code",
      "metadata": {
        "colab": {
          "base_uri": "https://localhost:8080/"
        },
        "id": "mvqRFZ5snTxy",
        "outputId": "be71a29d-5f53-4191-afdd-acd79ad2e2db"
      },
      "source": [
        "!git clone https://github.com/ucfilho/Metodos_Numericos_2021 #clonar do Github\n",
        "%cd Metodos_Numericos_2021"
      ],
      "execution_count": 2,
      "outputs": [
        {
          "output_type": "stream",
          "text": [
            "Cloning into 'Metodos_Numericos_2021'...\n",
            "remote: Enumerating objects: 174, done.\u001b[K\n",
            "remote: Counting objects: 100% (174/174), done.\u001b[K\n",
            "remote: Compressing objects: 100% (172/172), done.\u001b[K\n",
            "remote: Total 174 (delta 88), reused 0 (delta 0), pack-reused 0\u001b[K\n",
            "Receiving objects: 100% (174/174), 424.73 KiB | 13.27 MiB/s, done.\n",
            "Resolving deltas: 100% (88/88), done.\n",
            "/content/Metodos_Numericos_2021\n"
          ],
          "name": "stdout"
        }
      ]
    },
    {
      "cell_type": "code",
      "metadata": {
        "id": "vKwQnrOhpBh0"
      },
      "source": [
        "from edo_rk4 import rk4"
      ],
      "execution_count": 3,
      "outputs": []
    },
    {
      "cell_type": "code",
      "metadata": {
        "colab": {
          "base_uri": "https://localhost:8080/",
          "height": 301
        },
        "id": "zUr4OC6JnmTp",
        "outputId": "32cf9d04-9a86-4082-d6ec-48f768eb1dfb"
      },
      "source": [
        "def f( x, t ):\n",
        "  Q1 = 0.005\n",
        "  Q2 = 0.8\n",
        "  Vol = 80\n",
        "  derivada = Q1 - Q2*x/Vol\n",
        "\n",
        "  return derivada\n",
        "      \n",
        "\n",
        "a, b = ( 0.0, 10.0 )\n",
        "x0 = 0.0\n",
        "\n",
        "n = 51\n",
        "t = np.linspace( a, b, n )\n",
        "h = t[1] - t[0];\n",
        "print('h =',h)\n",
        "\n",
        "# compute various numerical solutions\n",
        "x = rk4( f, x0, t )\n",
        "\n",
        "plt.plot(t,x)\n",
        "\n"
      ],
      "execution_count": 4,
      "outputs": [
        {
          "output_type": "stream",
          "text": [
            "h = 0.2\n"
          ],
          "name": "stdout"
        },
        {
          "output_type": "execute_result",
          "data": {
            "text/plain": [
              "[<matplotlib.lines.Line2D at 0x7f6f0ddf9410>]"
            ]
          },
          "metadata": {
            "tags": []
          },
          "execution_count": 4
        },
        {
          "output_type": "display_data",
          "data": {
            "image/png": "[encoded data removed]",
            "text/plain": [
              "<Figure size 432x288 with 1 Axes>"
            ]
          },
          "metadata": {
            "tags": [],
            "needs_background": "light"
          }
        }
      ]
    },
    {
      "cell_type": "code",
      "metadata": {
        "id": "9sWTPqYSrrCR"
      },
      "source": [
        "print('tempo=',t[n-1],'conc=',x[n-1])"
      ],
      "execution_count": null,
      "outputs": []
    }
  ]
}