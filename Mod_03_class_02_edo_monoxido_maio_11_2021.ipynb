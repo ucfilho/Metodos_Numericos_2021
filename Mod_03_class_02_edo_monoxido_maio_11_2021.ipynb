{
  "nbformat": 4,
  "nbformat_minor": 0,
  "metadata": {
    "colab": {
      "name": "Mod_03_class_02_edo_monoxido_maio_11_2021.ipynb",
      "provenance": [],
      "authorship_tag": "ABX9TyOIhHjyVk3XvHI1YkcnmBXI",
      "include_colab_link": true
    },
    "kernelspec": {
      "name": "python3",
      "display_name": "Python 3"
    },
    "language_info": {
      "name": "python"
    }
  },
  "cells": [
    {
      "cell_type": "markdown",
      "metadata": {
        "id": "view-in-github",
        "colab_type": "text"
      },
      "source": [
        "<a href=\"https://colab.research.google.com/github/ucfilho/Metodos_Numericos_2021/blob/main/Mod_03_class_02_edo_monoxido_maio_11_2021.ipynb\" target=\"_parent\"><img src=\"https://colab.research.google.com/assets/colab-badge.svg\" alt=\"Open In Colab\"/></a>"
      ]
    },
    {
      "cell_type": "code",
      "metadata": {
        "id": "BLqXgukmnF0q"
      },
      "source": [
        ""
      ],
      "execution_count": null,
      "outputs": []
    },
    {
      "cell_type": "code",
      "metadata": {
        "id": "SiYPs0x7ncQj"
      },
      "source": [
        "import matplotlib.pyplot as plt"
      ],
      "execution_count": 1,
      "outputs": []
    },
    {
      "cell_type": "code",
      "metadata": {
        "colab": {
          "base_uri": "https://localhost:8080/"
        },
        "id": "mvqRFZ5snTxy",
        "outputId": "35eda894-b52e-4839-8b8e-5e6af7962915"
      },
      "source": [
        "!git clone https://github.com/ucfilho/Metodos_Numericos_2021 #clonar do Github\n",
        "%cd /Metodos_Numericos_2021"
      ],
      "execution_count": 2,
      "outputs": [
        {
          "output_type": "stream",
          "text": [
            "Cloning into 'Metodos_Numericos_2021'...\n",
            "remote: Enumerating objects: 165, done.\u001b[K\n",
            "remote: Counting objects: 100% (165/165), done.\u001b[K\n",
            "remote: Compressing objects: 100% (163/163), done.\u001b[K\n",
            "remote: Total 165 (delta 84), reused 0 (delta 0), pack-reused 0\u001b[K\n",
            "Receiving objects: 100% (165/165), 422.12 KiB | 7.82 MiB/s, done.\n",
            "Resolving deltas: 100% (84/84), done.\n",
            "[Errno 2] No such file or directory: '/Metodos_Numericos_2021'\n",
            "/content\n"
          ],
          "name": "stdout"
        }
      ]
    },
    {
      "cell_type": "code",
      "metadata": {
        "id": "vKwQnrOhpBh0"
      },
      "source": [
        "from edo_rk4 import rk4"
      ],
      "execution_count": null,
      "outputs": []
    },
    {
      "cell_type": "code",
      "metadata": {
        "id": "zUr4OC6JnmTp"
      },
      "source": [
        "def f( x, t ):\n",
        "  Q1 = 0.005\n",
        "  Q2 = 0.8\n",
        "  Vol = 80\n",
        "  derivada = Q1 - Q2*x/Vol\n",
        "\n",
        "  return derivada\n",
        "      \n",
        "\n",
        "a, b = ( 0.0, 10.0 )\n",
        "x0 = 0.0\n",
        "\n",
        "n = 51\n",
        "t = np.linspace( a, b, n )\n",
        "h = t[1] - t[0];\n",
        "print('h =',h)\n",
        "\n",
        "# compute various numerical solutions\n",
        "x = edo_rk4( f, x0, t )\n",
        "\n",
        "plt.plot(t,x)"
      ],
      "execution_count": null,
      "outputs": []
    }
  ]
}