{
  "nbformat": 4,
  "nbformat_minor": 0,
  "metadata": {
    "colab": {
      "name": "Mod_03_class_09_ode_reactor_maio_25_2021.ipynb",
      "provenance": [],
      "collapsed_sections": [],
      "authorship_tag": "ABX9TyPYDn97iKqfGZappM/M6NzQ",
      "include_colab_link": true
    },
    "kernelspec": {
      "name": "python3",
      "display_name": "Python 3"
    }
  },
  "cells": [
    {
      "cell_type": "markdown",
      "metadata": {
        "id": "view-in-github",
        "colab_type": "text"
      },
      "source": [
        "<a href=\"https://colab.research.google.com/github/ucfilho/Metodos_Numericos_2021/blob/main/Mod_03_class_09_ode_reactor_maio_25_2021.ipynb\" target=\"_parent\"><img src=\"https://colab.research.google.com/assets/colab-badge.svg\" alt=\"Open In Colab\"/></a>"
      ]
    },
    {
      "cell_type": "code",
      "metadata": {
        "id": "1FqdWwVtCeSu"
      },
      "source": [
        "import numpy as np\n",
        "import matplotlib.pyplot as plt\n",
        "import pandas as pd"
      ],
      "execution_count": 1,
      "outputs": []
    },
    {
      "cell_type": "markdown",
      "metadata": {
        "id": "_toqeKXb4wnH"
      },
      "source": [
        "The elementary gas phase reaction 2A $\\rightleftharpoons$ C is carried out in a packed bed reactor.\n",
        "\n",
        "\n",
        "\n",
        "There is a heat exchanger surrounding the reactor, \n",
        "and there is a pressure drop along the length of the reactor.\n"
      ]
    },
    {
      "cell_type": "markdown",
      "metadata": {
        "id": "2lMg2Z4J5Bm3"
      },
      "source": [
        "$F_{A0}\\frac{dX}{dW}=-R_A$\n",
        "\n",
        "$\\frac{dy}{dW}=\\frac{-\\alpha (1-0.5X)}{2y}\\frac{T}{T_0}$\n",
        "\n",
        "$\\frac{dT}{dW}=\\frac{U_a(T_a-T) +R_A\\Delta H_R}{F_{A0}C_{PA}}$\n",
        "\n",
        "$y=\\frac{P}{P_0}$\n",
        "\n",
        "$C_C=\\left( \\frac{0.5C_{A0}X}{1-0.5X} \\right)y\\frac{T}{T_0}$\n",
        "\n",
        "$C_A =C_{A0}\\left(\\frac{1-X}{1-0.5X}\\right)y\\frac{T_0}{T} $\n",
        "\n"
      ]
    },
    {
      "cell_type": "code",
      "metadata": {
        "id": "jAaQ9UiAJGUS",
        "colab": {
          "base_uri": "https://localhost:8080/"
        },
        "outputId": "2863afc8-0897-414a-cd41-401324e1db7d"
      },
      "source": [
        "!git clone https://github.com/ucfilho/Disciplina_Metodos_Numericos_2020 #clonar do Github\n",
        "%cd Disciplina_Metodos_Numericos_2020"
      ],
      "execution_count": 2,
      "outputs": [
        {
          "output_type": "stream",
          "text": [
            "fatal: destination path 'Disciplina_Metodos_Numericos_2020' already exists and is not an empty directory.\n",
            "/content/Disciplina_Metodos_Numericos_2020\n"
          ],
          "name": "stdout"
        }
      ]
    },
    {
      "cell_type": "code",
      "metadata": {
        "id": "GLKWvzg-GcnJ"
      },
      "source": [
        "from edo_rk4 import rk4"
      ],
      "execution_count": 3,
      "outputs": []
    },
    {
      "cell_type": "code",
      "metadata": {
        "id": "6ln1rA4oCXkI"
      },
      "source": [
        "X0 = 0\n",
        "T0 = 450.0\n",
        "y0 =1.0\n",
        "CPA=40.0\n",
        "CPC=80.0\n",
        "deltaHR=-40e3\n",
        "Ea= 41.8e3\n",
        "k450=0.5\n",
        "KC450=25e3\n",
        "CA0=0.271\n",
        "R=8.314\n",
        "FA0=5.0\n",
        "Ua = 0.8\n",
        "Ta=500\n",
        "alpha = 0.015\n",
        "P0=10\n",
        "yA0=1.0"
      ],
      "execution_count": 4,
      "outputs": []
    },
    {
      "cell_type": "code",
      "metadata": {
        "id": "c0mRUM9JJaY5"
      },
      "source": [
        "def model(Resp, t):\n",
        "\n",
        "  X, y, T  = Resp[0], Resp[1], Resp[2]\n",
        "  CC = (0.5*CA0*X)/(1.0-0.5*X)*y*T0/T\n",
        "  CA = CA0*(1.0-X)/ (1-0.5*X)*y* T0/T\n",
        "  k = k450*np.exp(Ea/R*(1/450-1/T))\n",
        "  KC = KC450*np.exp(deltaHR/R*(1/450-1/T))\n",
        "  RA = -k* (CA**2-CC/KC)\n",
        "  \n",
        "  dX  = -1.0/FA0 * RA\n",
        "  dy =  -alpha*(1-0.5*X)/(2*y)*T/T0\n",
        "  dT =  (Ua*(Ta-T)+RA*deltaHR) / (FA0*CPA) \n",
        "  \n",
        "  return [dX, dy, dT]"
      ],
      "execution_count": 5,
      "outputs": []
    },
    {
      "cell_type": "code",
      "metadata": {
        "id": "9tZVssL0GyGV"
      },
      "source": [
        "# initial state\n",
        "Resp0 = [X0, y0, T0]  # [ X,  y,  T]\n"
      ],
      "execution_count": 6,
      "outputs": []
    },
    {
      "cell_type": "code",
      "metadata": {
        "colab": {
          "base_uri": "https://localhost:8080/"
        },
        "id": "3rHlOmLfF27n",
        "outputId": "e2301f04-a0d7-4cc8-cf2d-d261c7fcc255"
      },
      "source": [
        "!git clone https://github.com/ucfilho/Metodos_Numericos_2021 #clonar do Github\n",
        "%cd Metodos_Numericos_2021\n",
        "from rk4_sys import rk4"
      ],
      "execution_count": 7,
      "outputs": [
        {
          "output_type": "stream",
          "text": [
            "fatal: destination path 'Metodos_Numericos_2021' already exists and is not an empty directory.\n",
            "/content/Disciplina_Metodos_Numericos_2020/Metodos_Numericos_2021\n"
          ],
          "name": "stdout"
        }
      ]
    },
    {
      "cell_type": "code",
      "metadata": {
        "id": "tvYW-I5Hdmll"
      },
      "source": [
        "# compute various numerical solutions\n",
        "\n",
        "w0 = 0.0\n",
        "x0 = [X0, y0, T0] \n",
        "wf = 40\n",
        "\n",
        "W, x = rk4( model, w0, wf,x0)\n",
        "\n"
      ],
      "execution_count": 8,
      "outputs": []
    },
    {
      "cell_type": "code",
      "metadata": {
        "id": "DaXaVbP0efGh",
        "colab": {
          "base_uri": "https://localhost:8080/",
          "height": 325
        },
        "outputId": "9f31fd9c-2545-49ce-f1fe-4c52794b8829"
      },
      "source": [
        "# plot the angles as a function of time\n",
        "fig, axs = plt.subplots(3)\n",
        "fig.suptitle('Reactor not isothermic')\n",
        "axs[0].plot(W, x[:, 0], 'r')\n",
        "axs[0].set(xlabel='W', ylabel='Conversao')\n",
        "axs[1].plot(W, P0*x[:, 1], 'b')\n",
        "axs[1].set(xlabel='W', ylabel=\"Pressao\")\n",
        "axs[2].plot(W, x[:, 2], 'k')\n",
        "axs[2].set(xlabel='W', ylabel=\"Temperatura\")"
      ],
      "execution_count": 9,
      "outputs": [
        {
          "output_type": "execute_result",
          "data": {
            "text/plain": [
              "[Text(0, 0.5, 'Temperatura'), Text(0.5, 0, 'W')]"
            ]
          },
          "metadata": {
            "tags": []
          },
          "execution_count": 9
        },
        {
          "output_type": "display_data",
          "data": {
            "image/png": "[encoded data removed]",
            "text/plain": [
              "<Figure size 432x288 with 3 Axes>"
            ]
          },
          "metadata": {
            "tags": [],
            "needs_background": "light"
          }
        }
      ]
    }
  ]
}