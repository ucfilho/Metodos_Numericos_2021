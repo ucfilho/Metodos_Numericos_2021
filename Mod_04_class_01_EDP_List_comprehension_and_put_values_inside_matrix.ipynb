{
  "nbformat": 4,
  "nbformat_minor": 0,
  "metadata": {
    "colab": {
      "name": "List_comprehension_and_put_values_inside_matrix.ipynb",
      "provenance": [],
      "authorship_tag": "ABX9TyOo1urxxZev9V3dwNpVdBwX",
      "include_colab_link": true
    },
    "kernelspec": {
      "name": "python3",
      "display_name": "Python 3"
    },
    "language_info": {
      "name": "python"
    }
  },
  "cells": [
    {
      "cell_type": "markdown",
      "metadata": {
        "id": "view-in-github",
        "colab_type": "text"
      },
      "source": [
        "<a href=\"https://colab.research.google.com/github/ucfilho/Metodos_Numericos_2021/blob/main/Mod_04_class_01_EDP_List_comprehension_and_put_values_inside_matrix.ipynb\" target=\"_parent\"><img src=\"https://colab.research.google.com/assets/colab-badge.svg\" alt=\"Open In Colab\"/></a>"
      ]
    },
    {
      "cell_type": "code",
      "metadata": {
        "id": "KrfvVVG_2-l2"
      },
      "source": [
        "import numpy as np"
      ],
      "execution_count": 19,
      "outputs": []
    },
    {
      "cell_type": "code",
      "metadata": {
        "colab": {
          "base_uri": "https://localhost:8080/"
        },
        "id": "7ODzWo1y3Jhd",
        "outputId": "18efa641-5d7e-462d-c667-74b132f99b0b"
      },
      "source": [
        "A = np.zeros((5,5))\n",
        "print(A)"
      ],
      "execution_count": 20,
      "outputs": [
        {
          "output_type": "stream",
          "text": [
            "[[0. 0. 0. 0. 0.]\n",
            " [0. 0. 0. 0. 0.]\n",
            " [0. 0. 0. 0. 0.]\n",
            " [0. 0. 0. 0. 0.]\n",
            " [0. 0. 0. 0. 0.]]\n"
          ],
          "name": "stdout"
        }
      ]
    },
    {
      "cell_type": "code",
      "metadata": {
        "id": "o3uCKeUg3XD0"
      },
      "source": [
        "lista1 = [1,2,3,4,5]"
      ],
      "execution_count": 21,
      "outputs": []
    },
    {
      "cell_type": "code",
      "metadata": {
        "id": "FqWAkwF03jVq"
      },
      "source": [
        "lista2 =[i+1 for i in range(5)]"
      ],
      "execution_count": 22,
      "outputs": []
    },
    {
      "cell_type": "code",
      "metadata": {
        "colab": {
          "base_uri": "https://localhost:8080/"
        },
        "id": "h3QzgE-y3p-0",
        "outputId": "216cf5e1-262f-42e9-8236-bca1bf312da2"
      },
      "source": [
        "print(lista2)\n",
        "print(lista1)"
      ],
      "execution_count": 23,
      "outputs": [
        {
          "output_type": "stream",
          "text": [
            "[1, 2, 3, 4, 5]\n",
            "[1, 2, 3, 4, 5]\n"
          ],
          "name": "stdout"
        }
      ]
    },
    {
      "cell_type": "code",
      "metadata": {
        "colab": {
          "base_uri": "https://localhost:8080/"
        },
        "id": "sOfVR1Br4SQ9",
        "outputId": "a7684ce1-99a0-489f-a79c-f626530fa779"
      },
      "source": [
        "A[0,:] = [i+1 for i in range(5)]\n",
        "print(A)"
      ],
      "execution_count": 24,
      "outputs": [
        {
          "output_type": "stream",
          "text": [
            "[[1. 2. 3. 4. 5.]\n",
            " [0. 0. 0. 0. 0.]\n",
            " [0. 0. 0. 0. 0.]\n",
            " [0. 0. 0. 0. 0.]\n",
            " [0. 0. 0. 0. 0.]]\n"
          ],
          "name": "stdout"
        }
      ]
    },
    {
      "cell_type": "code",
      "metadata": {
        "colab": {
          "base_uri": "https://localhost:8080/"
        },
        "id": "XQ_mE3MY5nEY",
        "outputId": "fcbc55e6-22fd-4908-d74a-1c06567568df"
      },
      "source": [
        "B = np.zeros((10,10))\n",
        "for i in range(10):\n",
        "  calculo =(i+1) % 2\n",
        "  multiplo3 =(i+1) % 3\n",
        "  if(calculo == 0) and (multiplo3 != 0):\n",
        "    B[i,i] = 2\n",
        "  elif(multiplo3 == 0):\n",
        "    B[i,i] = 7\n",
        "  else:\n",
        "    B[i,i] = 1\n",
        "print(B)"
      ],
      "execution_count": 27,
      "outputs": [
        {
          "output_type": "stream",
          "text": [
            "[[1. 0. 0. 0. 0. 0. 0. 0. 0. 0.]\n",
            " [0. 2. 0. 0. 0. 0. 0. 0. 0. 0.]\n",
            " [0. 0. 7. 0. 0. 0. 0. 0. 0. 0.]\n",
            " [0. 0. 0. 2. 0. 0. 0. 0. 0. 0.]\n",
            " [0. 0. 0. 0. 1. 0. 0. 0. 0. 0.]\n",
            " [0. 0. 0. 0. 0. 7. 0. 0. 0. 0.]\n",
            " [0. 0. 0. 0. 0. 0. 1. 0. 0. 0.]\n",
            " [0. 0. 0. 0. 0. 0. 0. 2. 0. 0.]\n",
            " [0. 0. 0. 0. 0. 0. 0. 0. 7. 0.]\n",
            " [0. 0. 0. 0. 0. 0. 0. 0. 0. 2.]]\n"
          ],
          "name": "stdout"
        }
      ]
    },
    {
      "cell_type": "code",
      "metadata": {
        "id": "7kB3NNre8MPa"
      },
      "source": [
        "C = np.zeros((12,12))\n",
        "C[0,:] =[i+1 if i<5 else -3 for i in range(12)]\n",
        "print(C)"
      ],
      "execution_count": null,
      "outputs": []
    }
  ]
}