{
  "nbformat": 4,
  "nbformat_minor": 0,
  "metadata": {
    "colab": {
      "name": "Mod_02_Class_14_ajuste_Antoine_DifferentialEvolution.ipynb",
      "provenance": [],
      "include_colab_link": true
    },
    "kernelspec": {
      "name": "python3",
      "display_name": "Python 3"
    }
  },
  "cells": [
    {
      "cell_type": "markdown",
      "metadata": {
        "id": "view-in-github",
        "colab_type": "text"
      },
      "source": [
        "<a href=\"https://colab.research.google.com/github/ucfilho/Metodos_Numericos_2021/blob/main/Mod_02_Class_14_ajuste_Antoine_DifferentialEvolution.ipynb\" target=\"_parent\"><img src=\"https://colab.research.google.com/assets/colab-badge.svg\" alt=\"Open In Colab\"/></a>"
      ]
    },
    {
      "cell_type": "code",
      "metadata": {
        "id": "tLgv4gDnCbX1"
      },
      "source": [
        "import numpy  as np\n",
        "from scipy.optimize import minimize\n",
        "import matplotlib.pyplot as plt\n",
        "import pandas as pd\n",
        "from scipy.optimize import differential_evolution"
      ],
      "execution_count": null,
      "outputs": []
    },
    {
      "cell_type": "code",
      "metadata": {
        "id": "AZJmGeqra0j2"
      },
      "source": [
        "def Minimo(x):\n",
        "  A = x[0]\n",
        "  B = x[1]\n",
        "  C = x[2]\n",
        "  P = [1,5,10,20,40,60,100,200,400,760]\n",
        "  T = [-36.7,-19.6,-11.5,-2.6,7.6,15.4,26.1,42.2,60.6,80.1]\n",
        "  Num =10 # Num = len(P)\n",
        "  Soma = 0\n",
        "\n",
        "  for i in range(Num):\n",
        "    TC = T[i]\n",
        "    Pcal = np.exp( (A - B/ (TC+C)))\n",
        "    Ptrue =P[i]\n",
        "    Soma = Soma + (Ptrue-Pcal)**2\n",
        "\n",
        "  return Soma"
      ],
      "execution_count": null,
      "outputs": []
    },
    {
      "cell_type": "code",
      "metadata": {
        "id": "XIC-e0jsJRVQ",
        "colab": {
          "base_uri": "https://localhost:8080/"
        },
        "outputId": "12bec1c3-c34d-4315-b956-0d4ef9fcfb22"
      },
      "source": [
        "x0=np.array([1,1,200]) # initial guess of x\n",
        "\n",
        "bounds = [(-1000,1000), (-1000, 1000), (-1000, 1000)]\n",
        "# Resultado = minimize(Minimo, x0, method='Nelder-Mead',options={'gtol': 1e-10, 'disp': True})\n",
        "Resultado = differential_evolution(Minimo, bounds,maxiter=6000, popsize= 200)"
      ],
      "execution_count": null,
      "outputs": [
        {
          "output_type": "stream",
          "text": [
            "/usr/local/lib/python3.7/dist-packages/ipykernel_launcher.py:14: RuntimeWarning: overflow encountered in double_scalars\n",
            "  \n",
            "/usr/local/lib/python3.7/dist-packages/ipykernel_launcher.py:12: RuntimeWarning: overflow encountered in exp\n",
            "  if sys.path[0] == '':\n"
          ],
          "name": "stderr"
        }
      ]
    },
    {
      "cell_type": "code",
      "metadata": {
        "id": "9vlafSt5LErN",
        "colab": {
          "base_uri": "https://localhost:8080/"
        },
        "outputId": "9928e156-7301-462c-bc40-769ba0dee1be"
      },
      "source": [
        "print('fun=',Resultado.fun)\n",
        "print('resposta=',Resultado.x)"
      ],
      "execution_count": null,
      "outputs": [
        {
          "output_type": "stream",
          "text": [
            "fun= 549.3490224632911\n",
            "resposta= [  11.87420188 1000.          110.37643506]\n"
          ],
          "name": "stdout"
        }
      ]
    },
    {
      "cell_type": "code",
      "metadata": {
        "colab": {
          "base_uri": "https://localhost:8080/"
        },
        "id": "PM1FZ6pkcDPQ",
        "outputId": "f309e6c2-48ee-4947-ecc6-463402607606"
      },
      "source": [
        "Resultado.x"
      ],
      "execution_count": null,
      "outputs": [
        {
          "output_type": "execute_result",
          "data": {
            "text/plain": [
              "array([  11.87420188, 1000.        ,  110.37643506])"
            ]
          },
          "metadata": {
            "tags": []
          },
          "execution_count": 5
        }
      ]
    },
    {
      "cell_type": "code",
      "metadata": {
        "id": "T3tNZLOJhCBz"
      },
      "source": [
        "w = Resultado.x\n",
        "A = w[0]\n",
        "B = w[1]\n",
        "C = w[2]\n",
        "Pcalc = []\n",
        "\n",
        "# A, B, C = Resultado.x\n",
        "P = [1,5,10,20,40,60,100,200,400,760]\n",
        "T = [-36.7,-19.6,-11.5,-2.6,7.6,15.4,26.1,42.2,60.6,80.1]\n",
        "Num =10\n",
        "\n",
        "for i in range(Num):\n",
        "  TC =T[i]\n",
        "  Pi = np.exp((A - B/ (TC+C)))\n",
        "  Pcalc.append(Pi)\n"
      ],
      "execution_count": null,
      "outputs": []
    },
    {
      "cell_type": "code",
      "metadata": {
        "colab": {
          "base_uri": "https://localhost:8080/",
          "height": 287
        },
        "id": "DI2JdcaOiNC8",
        "outputId": "5a8bc02e-088a-46d5-88d1-363b7e33a590"
      },
      "source": [
        "plt.scatter(P,Pcalc)\n",
        "plt.xlim([0,800])\n",
        "plt.ylim([0,800])"
      ],
      "execution_count": null,
      "outputs": [
        {
          "output_type": "execute_result",
          "data": {
            "text/plain": [
              "(0.0, 800.0)"
            ]
          },
          "metadata": {
            "tags": []
          },
          "execution_count": 7
        },
        {
          "output_type": "display_data",
          "data": {
            "image/png": "[encoded data removed]",
            "text/plain": [
              "<Figure size 432x288 with 1 Axes>"
            ]
          },
          "metadata": {
            "tags": [],
            "needs_background": "light"
          }
        }
      ]
    },
    {
      "cell_type": "code",
      "metadata": {
        "id": "vX2Z9kDw-6pZ",
        "colab": {
          "base_uri": "https://localhost:8080/",
          "height": 355
        },
        "outputId": "15739c7b-dec5-4f76-a61a-50877d677dc6"
      },
      "source": [
        "pd.DataFrame({'Ptrue':P,'Pcalc':Pcalc})"
      ],
      "execution_count": null,
      "outputs": [
        {
          "output_type": "execute_result",
          "data": {
            "text/html": [
              "<div>\n",
              "<style scoped>\n",
              "    .dataframe tbody tr th:only-of-type {\n",
              "        vertical-align: middle;\n",
              "    }\n",
              "\n",
              "    .dataframe tbody tr th {\n",
              "        vertical-align: top;\n",
              "    }\n",
              "\n",
              "    .dataframe thead th {\n",
              "        text-align: right;\n",
              "    }\n",
              "</style>\n",
              "<table border=\"1\" class=\"dataframe\">\n",
              "  <thead>\n",
              "    <tr style=\"text-align: right;\">\n",
              "      <th></th>\n",
              "      <th>Ptrue</th>\n",
              "      <th>Pcalc</th>\n",
              "    </tr>\n",
              "  </thead>\n",
              "  <tbody>\n",
              "    <tr>\n",
              "      <th>0</th>\n",
              "      <td>1</td>\n",
              "      <td>0.182929</td>\n",
              "    </tr>\n",
              "    <tr>\n",
              "      <th>1</th>\n",
              "      <td>5</td>\n",
              "      <td>2.358739</td>\n",
              "    </tr>\n",
              "    <tr>\n",
              "      <th>2</th>\n",
              "      <td>10</td>\n",
              "      <td>5.815744</td>\n",
              "    </tr>\n",
              "    <tr>\n",
              "      <th>3</th>\n",
              "      <td>20</td>\n",
              "      <td>13.406448</td>\n",
              "    </tr>\n",
              "    <tr>\n",
              "      <th>4</th>\n",
              "      <td>40</td>\n",
              "      <td>29.902225</td>\n",
              "    </tr>\n",
              "    <tr>\n",
              "      <th>5</th>\n",
              "      <td>60</td>\n",
              "      <td>50.581554</td>\n",
              "    </tr>\n",
              "    <tr>\n",
              "      <th>6</th>\n",
              "      <td>100</td>\n",
              "      <td>94.342295</td>\n",
              "    </tr>\n",
              "    <tr>\n",
              "      <th>7</th>\n",
              "      <td>200</td>\n",
              "      <td>204.406331</td>\n",
              "    </tr>\n",
              "    <tr>\n",
              "      <th>8</th>\n",
              "      <td>400</td>\n",
              "      <td>413.824789</td>\n",
              "    </tr>\n",
              "    <tr>\n",
              "      <th>9</th>\n",
              "      <td>760</td>\n",
              "      <td>753.107985</td>\n",
              "    </tr>\n",
              "  </tbody>\n",
              "</table>\n",
              "</div>"
            ],
            "text/plain": [
              "   Ptrue       Pcalc\n",
              "0      1    0.182929\n",
              "1      5    2.358739\n",
              "2     10    5.815744\n",
              "3     20   13.406448\n",
              "4     40   29.902225\n",
              "5     60   50.581554\n",
              "6    100   94.342295\n",
              "7    200  204.406331\n",
              "8    400  413.824789\n",
              "9    760  753.107985"
            ]
          },
          "metadata": {
            "tags": []
          },
          "execution_count": 8
        }
      ]
    }
  ]
}