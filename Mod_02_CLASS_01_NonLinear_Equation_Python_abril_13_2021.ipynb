{
  "nbformat": 4,
  "nbformat_minor": 0,
  "metadata": {
    "colab": {
      "name": "Mod_02_CLASS_01_NonLinear_Equation_Python_abril_13_2021.ipynb",
      "provenance": [],
      "include_colab_link": true
    },
    "kernelspec": {
      "name": "python3",
      "display_name": "Python 3"
    }
  },
  "cells": [
    {
      "cell_type": "markdown",
      "metadata": {
        "id": "view-in-github",
        "colab_type": "text"
      },
      "source": [
        "<a href=\"https://colab.research.google.com/github/ucfilho/Metodos_Numericos_2021/blob/main/Mod_02_CLASS_01_NonLinear_Equation_Python_abril_13_2021.ipynb\" target=\"_parent\"><img src=\"https://colab.research.google.com/assets/colab-badge.svg\" alt=\"Open In Colab\"/></a>"
      ]
    },
    {
      "cell_type": "code",
      "metadata": {
        "id": "ZClwI8wN7VJm"
      },
      "source": [
        "# http://hplgit.github.io/prog4comp/doc/pub/p4c-sphinx-Python/._pylight007.html\n",
        "# Simula Research Laboratory-Norway https://www.simula.no/"
      ],
      "execution_count": 1,
      "outputs": []
    },
    {
      "cell_type": "markdown",
      "metadata": {
        "id": "pi-6krrxnzzs"
      },
      "source": [
        "Solving multiple nonlinear algebraic equation"
      ]
    },
    {
      "cell_type": "markdown",
      "metadata": {
        "id": "g-DT2RuBmW8w"
      },
      "source": [
        "$\\boldsymbol{F}(\\boldsymbol{x}_{i+1}) \\approx \\boldsymbol{F}(\\boldsymbol{x}_i) + \\nabla\\boldsymbol{F}(\\boldsymbol{x}_i)(\\boldsymbol{x}_{i+1}-\\boldsymbol{x}_i)\\thinspace $\n",
        "\n",
        "<p>Matriz Jacobiana</p>\n",
        "\n",
        "\\\\begin{split}\\nabla\\boldsymbol{F} = \\left(\\begin{array}{ll}\n",
        "\\frac{\\partial F_0}{\\partial x_0} & \\frac{\\partial F_0}{\\partial x_1}\\\\\n",
        "\\frac{\\partial F_1}{\\partial x_0} & \\frac{\\partial F_1}{\\partial x_1}\n",
        "\\end{array}\\right) =\n",
        "\\left(\\begin{array}{ll}\n",
        "2x_0 + \\cos(\\pi x_0) - \\pi x_0\\sin(\\pi x_0) &\n",
        "-1 \\\\\n",
        "x_1 + x_0^{-2} & x_0 - e^{-x_1}\n",
        "\\end{array}\\right)\\end{split}\n",
        "\n",
        "<p>Problema a ser resolvido (exemplo)</p>\n",
        "\n",
        "\\begin{split}F_0(x_0,x_1) &= x^2 - y + x\\cos(\\pi x) = 0,\\\\\n",
        "F_1(x_0,x_1) &= yx + e^{-y} - x^{-1} = 0\\thinspace .\\end{split}"
      ]
    },
    {
      "cell_type": "code",
      "metadata": {
        "id": "rC-9DpuS7_SQ"
      },
      "source": [
        "import numpy as np\n",
        "from numpy import cos, sin, pi, exp"
      ],
      "execution_count": 2,
      "outputs": []
    },
    {
      "cell_type": "code",
      "metadata": {
        "id": "_DjrsLW8bwbm"
      },
      "source": [
        "def F(x):\n",
        "  return np.array(\n",
        "      [x[0]**2 - x[1] + x[0]*cos(pi*x[0]),\n",
        "       x[0]*x[1] + exp(-x[1]) - x[0]**(-1.0)])\n",
        "\n",
        "def J(x):\n",
        "  return np.array(\n",
        "      [[2*x[0] + cos(pi*x[0]) - pi*x[0]*sin(pi*x[0]), -1],\n",
        "       [x[1] + x[0]**(-2.0), x[0] - exp(-x[1])]])\n"
      ],
      "execution_count": 3,
      "outputs": []
    },
    {
      "cell_type": "code",
      "metadata": {
        "id": "RDneMeuE8P1x"
      },
      "source": [
        "def Newton_system(F, J, x, eps):\n",
        "    \"\"\"\n",
        "    Solve nonlinear system F=0 by Newton's method.\n",
        "    J is the Jacobian of F. Both F and J must be functions of x.\n",
        "    At input, x holds the start value. The iteration continues\n",
        "    until ||F|| < eps.\n",
        "    \"\"\"\n",
        "    #print(eps)\n",
        "    F_value = F(x)\n",
        "    F_norm = np.linalg.norm(F_value, ord=2)  # l2 norm of vector\n",
        "    iteration_counter = 0\n",
        "    while abs(F_norm) > eps and iteration_counter < 100:\n",
        "        print(\"int=\",iteration_counter)\n",
        "        delta = np.linalg.solve(J(x), -F_value)\n",
        "        x = x + delta\n",
        "        F_value = F(x)\n",
        "        F_norm = np.linalg.norm(F_value, ord=2)\n",
        "        iteration_counter += 1\n",
        "\n",
        "    # Here, either a solution is found, or too many iterations\n",
        "    if abs(F_norm) > eps:\n",
        "        iteration_counter = -1\n",
        "    return x, iteration_counter"
      ],
      "execution_count": 4,
      "outputs": []
    },
    {
      "cell_type": "code",
      "metadata": {
        "id": "K9lHmuzR7YEm",
        "colab": {
          "base_uri": "https://localhost:8080/"
        },
        "outputId": "659f663e-7459-470f-f971-c2fc116a43aa"
      },
      "source": [
        "expected = np.array([1, 0])\n",
        "tol = 1e-4\n",
        "x, n = Newton_system(F, J, x=np.array([2, -1]), eps=0.0001)\n",
        "print(n, x)"
      ],
      "execution_count": 5,
      "outputs": [
        {
          "output_type": "stream",
          "text": [
            "int= 0\n",
            "int= 1\n",
            "int= 2\n",
            "int= 3\n",
            "4 [ 1.00000006e+00 -1.00943962e-06]\n"
          ],
          "name": "stdout"
        }
      ]
    },
    {
      "cell_type": "code",
      "metadata": {
        "id": "6HHKwk1qHGcu"
      },
      "source": [
        ""
      ],
      "execution_count": 5,
      "outputs": []
    }
  ]
}