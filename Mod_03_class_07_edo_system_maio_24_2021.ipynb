{
  "nbformat": 4,
  "nbformat_minor": 0,
  "metadata": {
    "colab": {
      "name": "Mod_03_class_07_edo_system_maio_24_2021.ipynb",
      "provenance": [],
      "authorship_tag": "ABX9TyNDatQIOdPRuO8mow6mqJNS",
      "include_colab_link": true
    },
    "kernelspec": {
      "name": "python3",
      "display_name": "Python 3"
    },
    "language_info": {
      "name": "python"
    }
  },
  "cells": [
    {
      "cell_type": "markdown",
      "metadata": {
        "id": "view-in-github",
        "colab_type": "text"
      },
      "source": [
        "<a href=\"https://colab.research.google.com/github/ucfilho/Metodos_Numericos_2021/blob/main/Mod_03_class_07_edo_system_maio_24_2021.ipynb\" target=\"_parent\"><img src=\"https://colab.research.google.com/assets/colab-badge.svg\" alt=\"Open In Colab\"/></a>"
      ]
    },
    {
      "cell_type": "code",
      "metadata": {
        "id": "SiYPs0x7ncQj"
      },
      "source": [
        "import matplotlib.pyplot as plt\n",
        "import numpy as np"
      ],
      "execution_count": 1,
      "outputs": []
    },
    {
      "cell_type": "code",
      "metadata": {
        "colab": {
          "base_uri": "https://localhost:8080/"
        },
        "id": "WPXXVJHfNuxx",
        "outputId": "19c98f90-e206-4328-b9bc-ed892b124330"
      },
      "source": [
        "!git clone https://github.com/ucfilho/Metodos_Numericos_2021 #clonar do Github\n",
        "%cd Metodos_Numericos_2021\n",
        "from rk4_sys import rk4"
      ],
      "execution_count": 2,
      "outputs": [
        {
          "output_type": "stream",
          "text": [
            "fatal: destination path 'Metodos_Numericos_2021' already exists and is not an empty directory.\n",
            "/content/Metodos_Numericos_2021\n"
          ],
          "name": "stdout"
        }
      ]
    },
    {
      "cell_type": "code",
      "metadata": {
        "id": "zUr4OC6JnmTp"
      },
      "source": [
        "def f( x, t ):\n",
        "  # T1 = x[0];   T2 = x[1];   T2 = x[2]\n",
        "  T1,T2,T3 = x\n",
        "  T0 = 20\n",
        "  UA = 10.0\n",
        "  Cp = 2.0\n",
        "  W = 100.0\n",
        "  T_steam = 250\n",
        "  M = 1000.0\n",
        "  derivada = [0,0,0]\n",
        "  derivada[0] = (W*Cp*(T0-T1)+UA*(T_steam-T1))/(M*Cp)\n",
        "  derivada[1] = (W*Cp*(T1-T2)+UA*(T_steam-T2))/(M*Cp)\n",
        "  derivada[2] = (W*Cp*(T2-T3)+UA*(T_steam-T3))/(M*Cp)\n",
        "\n",
        "  return derivada\n"
      ],
      "execution_count": 3,
      "outputs": []
    },
    {
      "cell_type": "code",
      "metadata": {
        "colab": {
          "base_uri": "https://localhost:8080/",
          "height": 317
        },
        "id": "UqCOg-8qaGu_",
        "outputId": "4c8f5fb4-b357-41b7-b853-18847aa895f7"
      },
      "source": [
        "t0 = 0.0\n",
        "x0 = [20.0,20.0,20.0]\n",
        "tf = 200\n",
        "\n",
        "t, x = rk4( f, t0, tf,x0)\n",
        "\n",
        "plt.plot(t,x)\n"
      ],
      "execution_count": 4,
      "outputs": [
        {
          "output_type": "execute_result",
          "data": {
            "text/plain": [
              "[<matplotlib.lines.Line2D at 0x7f9bdcb7e310>,\n",
              " <matplotlib.lines.Line2D at 0x7f9bdcb7e510>,\n",
              " <matplotlib.lines.Line2D at 0x7f9bdcb7e6d0>]"
            ]
          },
          "metadata": {
            "tags": []
          },
          "execution_count": 4
        },
        {
          "output_type": "display_data",
          "data": {
            "image/png": "[encoded data removed]",
            "text/plain": [
              "<Figure size 432x288 with 1 Axes>"
            ]
          },
          "metadata": {
            "tags": [],
            "needs_background": "light"
          }
        }
      ]
    },
    {
      "cell_type": "code",
      "metadata": {
        "id": "9sWTPqYSrrCR",
        "colab": {
          "base_uri": "https://localhost:8080/"
        },
        "outputId": "79047585-2543-44e6-f7e5-95ce95914c14"
      },
      "source": [
        "T3 = x[:,2] # totas as linhas e a terceira coluna\n",
        "n = len(T3)\n",
        "Tol = 1E-2\n",
        "h = t[1]-t[0]\n",
        "nt =int(1/h) \n",
        "for i in range(n-nt):\n",
        "  delta = T3[i+nt]-T3[i]\n",
        "  if(delta < Tol):\n",
        "    print('TEMPO',t[i+1],'Temperatura=',T3[i+1])\n",
        "    break\n",
        "\n"
      ],
      "execution_count": 5,
      "outputs": [
        {
          "output_type": "stream",
          "text": [
            "TEMPO 80.209 Temperatura= 51.195229142997526\n"
          ],
          "name": "stdout"
        }
      ]
    },
    {
      "cell_type": "code",
      "metadata": {
        "colab": {
          "base_uri": "https://localhost:8080/"
        },
        "id": "sprwIjxhRvxY",
        "outputId": "8adca736-cd4e-45e4-c334-996cc89cc6e3"
      },
      "source": [
        "T3 = x[:,2] # totas as linhas e a terceira coluna\n",
        "n = len(T3)\n",
        "Tol = 1E-6\n",
        "Intervalo = 10\n",
        "Time_ref = t[0]\n",
        "T_ref = T3[0]\n",
        "for i in range(n):\n",
        "  delta_tempo = t[i]-Time_ref\n",
        "  delta_Temperatura = T3[i] -T_ref\n",
        "  if(delta_tempo > Intervalo):\n",
        "    T_ref = T3[i]\n",
        "    Time_ref = t[0]\n",
        "    if(delta_Temperatura < Tol):\n",
        "      print('TEMPO',t[i+1],'Temperatura=',T3[i+1])\n",
        "      break\n"
      ],
      "execution_count": 6,
      "outputs": [
        {
          "output_type": "stream",
          "text": [
            "TEMPO 107.522 Temperatura= 51.30617346021169\n"
          ],
          "name": "stdout"
        }
      ]
    },
    {
      "cell_type": "code",
      "metadata": {
        "colab": {
          "base_uri": "https://localhost:8080/"
        },
        "id": "NzVnWlgTSLCh",
        "outputId": "470d28a5-320c-4dfa-8d98-f8fef818dbbe"
      },
      "source": [
        "T3[i]"
      ],
      "execution_count": 9,
      "outputs": [
        {
          "output_type": "execute_result",
          "data": {
            "text/plain": [
              "51.30617346021169"
            ]
          },
          "metadata": {
            "tags": []
          },
          "execution_count": 9
        }
      ]
    }
  ]
}