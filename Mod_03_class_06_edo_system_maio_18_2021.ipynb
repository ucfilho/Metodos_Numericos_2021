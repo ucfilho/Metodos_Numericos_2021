{
  "nbformat": 4,
  "nbformat_minor": 0,
  "metadata": {
    "colab": {
      "name": "Mod_03_class_06_edo_system_maio_18_2021.ipynb",
      "provenance": [],
      "authorship_tag": "ABX9TyMhGc8OOpsOc4pjl1sYiyMM",
      "include_colab_link": true
    },
    "kernelspec": {
      "name": "python3",
      "display_name": "Python 3"
    },
    "language_info": {
      "name": "python"
    }
  },
  "cells": [
    {
      "cell_type": "markdown",
      "metadata": {
        "id": "view-in-github",
        "colab_type": "text"
      },
      "source": [
        "<a href=\"https://colab.research.google.com/github/ucfilho/Metodos_Numericos_2021/blob/main/Mod_03_class_06_edo_system_maio_18_2021.ipynb\" target=\"_parent\"><img src=\"https://colab.research.google.com/assets/colab-badge.svg\" alt=\"Open In Colab\"/></a>"
      ]
    },
    {
      "cell_type": "code",
      "metadata": {
        "id": "SiYPs0x7ncQj"
      },
      "source": [
        "import matplotlib.pyplot as plt\n",
        "from scipy.integrate import odeint\n",
        "import numpy as np"
      ],
      "execution_count": 1,
      "outputs": []
    },
    {
      "cell_type": "code",
      "metadata": {
        "id": "zUr4OC6JnmTp"
      },
      "source": [
        "def f( x, t ):\n",
        "  UA = 10.0\n",
        "  Cp = 2.0\n",
        "  W = 100.0\n",
        "  T_steam = 250\n",
        "  M = 1000.0\n",
        "\n",
        "\n",
        "  return derivada\n"
      ],
      "execution_count": 2,
      "outputs": []
    },
    {
      "cell_type": "code",
      "metadata": {
        "colab": {
          "base_uri": "https://localhost:8080/",
          "height": 282
        },
        "id": "UqCOg-8qaGu_",
        "outputId": "54ad3cd8-9c82-4b40-ab5b-57c6539248d0"
      },
      "source": [
        "t0 = 0.0\n",
        "x0 = 0.0\n",
        "tf = 600\n",
        "\n",
        "t = np.linspace(t0, tf, 101)\n",
        "x = odeint(f, x0, t )\n",
        "plt.plot(t,x)\n"
      ],
      "execution_count": 3,
      "outputs": [
        {
          "output_type": "execute_result",
          "data": {
            "text/plain": [
              "[<matplotlib.lines.Line2D at 0x7fba13568d10>]"
            ]
          },
          "metadata": {
            "tags": []
          },
          "execution_count": 3
        },
        {
          "output_type": "display_data",
          "data": {
            "image/png": "[encoded data removed]",
            "text/plain": [
              "<Figure size 432x288 with 1 Axes>"
            ]
          },
          "metadata": {
            "tags": [],
            "needs_background": "light"
          }
        }
      ]
    },
    {
      "cell_type": "code",
      "metadata": {
        "id": "9sWTPqYSrrCR",
        "colab": {
          "base_uri": "https://localhost:8080/"
        },
        "outputId": "17b52727-3d48-4ee0-829d-4b3407cb7539"
      },
      "source": [
        "print('tempo=',t[-1],'conc=',x[-1])"
      ],
      "execution_count": 10,
      "outputs": [
        {
          "output_type": "stream",
          "text": [
            "tempo= 600.0 conc= [0.49876063]\n"
          ],
          "name": "stdout"
        }
      ]
    }
  ]
}