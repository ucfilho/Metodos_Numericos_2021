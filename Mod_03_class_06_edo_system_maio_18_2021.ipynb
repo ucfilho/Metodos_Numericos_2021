{
  "nbformat": 4,
  "nbformat_minor": 0,
  "metadata": {
    "colab": {
      "name": "Mod_03_class_06_edo_system_maio_18_2021.ipynb",
      "provenance": [],
      "authorship_tag": "ABX9TyPLi3bMN0ZHTn5pQgGhzHfB",
      "include_colab_link": true
    },
    "kernelspec": {
      "name": "python3",
      "display_name": "Python 3"
    },
    "language_info": {
      "name": "python"
    }
  },
  "cells": [
    {
      "cell_type": "markdown",
      "metadata": {
        "id": "view-in-github",
        "colab_type": "text"
      },
      "source": [
        "<a href=\"https://colab.research.google.com/github/ucfilho/Metodos_Numericos_2021/blob/main/Mod_03_class_06_edo_system_maio_18_2021.ipynb\" target=\"_parent\"><img src=\"https://colab.research.google.com/assets/colab-badge.svg\" alt=\"Open In Colab\"/></a>"
      ]
    },
    {
      "cell_type": "code",
      "metadata": {
        "id": "SiYPs0x7ncQj"
      },
      "source": [
        "import matplotlib.pyplot as plt\n",
        "from scipy.integrate import odeint\n",
        "import numpy as np"
      ],
      "execution_count": 15,
      "outputs": []
    },
    {
      "cell_type": "code",
      "metadata": {
        "id": "zUr4OC6JnmTp"
      },
      "source": [
        "def f( x, t ):\n",
        "  # T1 = x[0];   T2 = x[1];   T2 = x[2]\n",
        "  T1,T2,T3 = x\n",
        "  T0 = 20\n",
        "  UA = 10.0\n",
        "  Cp = 2.0\n",
        "  W = 100.0\n",
        "  T_steam = 250\n",
        "  M = 1000.0\n",
        "  derivada = [0,0,0]\n",
        "  derivada[0] = (W*Cp*(T0-T1)+UA*(T_steam-T1))/(M*Cp)\n",
        "  derivada[1] = (W*Cp*(T1-T2)+UA*(T_steam-T2))/(M*Cp)\n",
        "  derivada[2] = (W*Cp*(T2-T3)+UA*(T_steam-T3))/(M*Cp)\n",
        "\n",
        "  return derivada\n"
      ],
      "execution_count": 16,
      "outputs": []
    },
    {
      "cell_type": "code",
      "metadata": {
        "colab": {
          "base_uri": "https://localhost:8080/",
          "height": 315
        },
        "id": "UqCOg-8qaGu_",
        "outputId": "c4777d32-c1fd-4459-bfe9-de6199b7f320"
      },
      "source": [
        "t0 = 0.0\n",
        "x0 = [20.0,20.0,20.0]\n",
        "tf = 200\n",
        "\n",
        "t = np.linspace(t0, tf, 101)\n",
        "x = odeint(f, x0, t )\n",
        "plt.plot(t,x)\n"
      ],
      "execution_count": 17,
      "outputs": [
        {
          "output_type": "execute_result",
          "data": {
            "text/plain": [
              "[<matplotlib.lines.Line2D at 0x7f1a5865fe90>,\n",
              " <matplotlib.lines.Line2D at 0x7f1a58675110>,\n",
              " <matplotlib.lines.Line2D at 0x7f1a586752d0>]"
            ]
          },
          "metadata": {
            "tags": []
          },
          "execution_count": 17
        },
        {
          "output_type": "display_data",
          "data": {
            "image/png": "[encoded data removed]",
            "text/plain": [
              "<Figure size 432x288 with 1 Axes>"
            ]
          },
          "metadata": {
            "tags": [],
            "needs_background": "light"
          }
        }
      ]
    },
    {
      "cell_type": "code",
      "metadata": {
        "id": "9sWTPqYSrrCR",
        "colab": {
          "base_uri": "https://localhost:8080/"
        },
        "outputId": "4eced8bb-8da6-4eb7-e4fa-22c79d10253c"
      },
      "source": [
        "T3 = x[:,2] # totas as linhas e a terceira coluna\n",
        "n = len(T3)\n",
        "Tol = 1E-2\n",
        "\n",
        "for i in range(n-1):\n",
        "  delta = T3[i+1]-T3[i]\n",
        "  if(delta < Tol):\n",
        "    print('TEMPO',t[i+1],'Temperatura=',T3[i+1])\n",
        "    break\n",
        "\n"
      ],
      "execution_count": 20,
      "outputs": [
        {
          "output_type": "stream",
          "text": [
            "TEMPO 90.0 Temperatura= 51.264839243319116\n"
          ],
          "name": "stdout"
        }
      ]
    }
  ]
}