{
  "nbformat": 4,
  "nbformat_minor": 0,
  "metadata": {
    "colab": {
      "name": "Mod_01_Metodo_Jacobi_versao_01_abril_06_2021.ipynb",
      "provenance": [],
      "collapsed_sections": [],
      "authorship_tag": "ABX9TyM4DGBod+5HKXm6NHG56d02",
      "include_colab_link": true
    },
    "kernelspec": {
      "name": "python3",
      "display_name": "Python 3"
    }
  },
  "cells": [
    {
      "cell_type": "markdown",
      "metadata": {
        "id": "view-in-github",
        "colab_type": "text"
      },
      "source": [
        "<a href=\"https://colab.research.google.com/github/ucfilho/Metodos_Numericos_2021/blob/main/Mod_01_Metodo_Jacobi_versao_01_abril_06_2021.ipynb\" target=\"_parent\"><img src=\"https://colab.research.google.com/assets/colab-badge.svg\" alt=\"Open In Colab\"/></a>"
      ]
    },
    {
      "cell_type": "code",
      "metadata": {
        "id": "RwtSWmlEPpmt"
      },
      "source": [
        "import numpy as np"
      ],
      "execution_count": 1,
      "outputs": []
    },
    {
      "cell_type": "code",
      "metadata": {
        "id": "BOJJ1XSQQ58d",
        "colab": {
          "base_uri": "https://localhost:8080/"
        },
        "outputId": "25f89749-cf82-4f74-aa3f-65757f675e93"
      },
      "source": [
        "!git clone https://github.com/ucfilho/Metodos_Numericos_2021 #clonar do Github\n",
        "%cd Metodos_Numericos_2021"
      ],
      "execution_count": 2,
      "outputs": [
        {
          "output_type": "stream",
          "text": [
            "Cloning into 'Metodos_Numericos_2021'...\n",
            "remote: Enumerating objects: 24, done.\u001b[K\n",
            "remote: Counting objects: 100% (24/24), done.\u001b[K\n",
            "remote: Compressing objects: 100% (22/22), done.\u001b[K\n",
            "remote: Total 24 (delta 8), reused 0 (delta 0), pack-reused 0\u001b[K\n",
            "Unpacking objects: 100% (24/24), done.\n",
            "/content/Metodos_Numericos_2021\n"
          ],
          "name": "stdout"
        }
      ]
    },
    {
      "cell_type": "code",
      "metadata": {
        "id": "357ghIDCt2cm"
      },
      "source": [
        "from Jacobi import jacobi"
      ],
      "execution_count": 3,
      "outputs": []
    },
    {
      "cell_type": "code",
      "metadata": {
        "id": "UE1soRMeOtjH",
        "colab": {
          "base_uri": "https://localhost:8080/"
        },
        "outputId": "5e4e4fb6-8f60-43b5-c6fb-2896f1587af5"
      },
      "source": [
        "# create the matrix A\n",
        "A = np. array ([[0.9 ,0.3 ,0.1] ,[0.1 ,0.5 ,0.2] , [0.0 ,0.2 ,0.7]])\n",
        "\n",
        "# create the right-hand side\n",
        "feed = np. array ([30.0 ,25.0 ,10.0])\n",
        "x0 = np.array([0,0,0])\n",
        "x= jacobi(A,feed,x0)\n",
        "\n",
        "# print the solution\n",
        "print(x)\n",
        "\n",
        "# check the solution\n",
        "check_sol = np.dot(A,x)\n",
        "print(check_sol) "
      ],
      "execution_count": 4,
      "outputs": [
        {
          "output_type": "stream",
          "text": [
            "[17.884615384615383, 45.96153846153846, 1.1538461538461529]\n",
            "[30. 25. 10.]\n"
          ],
          "name": "stdout"
        }
      ]
    }
  ]
}