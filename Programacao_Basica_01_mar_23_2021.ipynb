{
  "nbformat": 4,
  "nbformat_minor": 0,
  "metadata": {
    "colab": {
      "name": "Programacao_Basica_01_mar_23_2021.ipynb",
      "provenance": [],
      "authorship_tag": "ABX9TyOroCd1lVmbbUf+8Ld5iJLs",
      "include_colab_link": true
    },
    "kernelspec": {
      "name": "python3",
      "display_name": "Python 3"
    },
    "language_info": {
      "name": "python"
    }
  },
  "cells": [
    {
      "cell_type": "markdown",
      "metadata": {
        "id": "view-in-github",
        "colab_type": "text"
      },
      "source": [
        "<a href=\"https://colab.research.google.com/github/ucfilho/Metodos_Numericos_2021/blob/main/Programacao_Basica_01_mar_23_2021.ipynb\" target=\"_parent\"><img src=\"https://colab.research.google.com/assets/colab-badge.svg\" alt=\"Open In Colab\"/></a>"
      ]
    },
    {
      "cell_type": "code",
      "metadata": {
        "id": "arqT-m06Jmm_"
      },
      "source": [
        "import pandas as pd\n",
        "import numpy as np"
      ],
      "execution_count": 1,
      "outputs": []
    },
    {
      "cell_type": "code",
      "metadata": {
        "colab": {
          "base_uri": "https://localhost:8080/"
        },
        "id": "TGaIPuWa_C3w",
        "outputId": "47298d75-61ff-45d9-d857-5faa7b6529e1"
      },
      "source": [
        "mM=30\n",
        "xm =0.7\n",
        "valor_M = mM* xm\n",
        "print('valor_M separado',valor_M)"
      ],
      "execution_count": 2,
      "outputs": [
        {
          "output_type": "stream",
          "text": [
            "valor_M separado 21.0\n"
          ],
          "name": "stdout"
        }
      ]
    },
    {
      "cell_type": "code",
      "metadata": {
        "colab": {
          "base_uri": "https://localhost:8080/"
        },
        "id": "KOZqaxQ5CfSU",
        "outputId": "cbd84603-1c40-4187-be0c-826b387db2bf"
      },
      "source": [
        "Quantidades = [30, 25, 10]\n",
        "Recupera = [0.70, 0.80, 0.90]\n",
        "Num = 3\n",
        "for i in range(Num):\n",
        "  valor_separado = Quantidades[i]*Recupera[i]\n",
        "  print('valor reparado',valor_separado)"
      ],
      "execution_count": 3,
      "outputs": [
        {
          "output_type": "stream",
          "text": [
            "valor reparado 21.0\n",
            "valor reparado 20.0\n",
            "valor reparado 9.0\n"
          ],
          "name": "stdout"
        }
      ]
    },
    {
      "cell_type": "code",
      "metadata": {
        "colab": {
          "base_uri": "https://localhost:8080/"
        },
        "id": "xOinYj91F5qx",
        "outputId": "152ca41f-cec4-48e8-ca06-0585606a8f30"
      },
      "source": [
        "Quantidades = [30, 25, 10]\n",
        "Recupera = [0.70, 0.80, 0.90]\n",
        "Resposta = []\n",
        "Num = len(Quantidades)\n",
        "for i in range(Num):\n",
        "  valor_separado = Quantidades[i]*Recupera[i]\n",
        "  Resposta.append(valor_separado)\n",
        "print(Resposta)"
      ],
      "execution_count": 4,
      "outputs": [
        {
          "output_type": "stream",
          "text": [
            "[21.0, 20.0, 9.0]\n"
          ],
          "name": "stdout"
        }
      ]
    },
    {
      "cell_type": "code",
      "metadata": {
        "colab": {
          "base_uri": "https://localhost:8080/"
        },
        "id": "fb15dFhzHDv5",
        "outputId": "111fa29b-5f74-45ee-96ac-dfbb43d0e6f1"
      },
      "source": [
        "Quantidades = [30, 25, 10]\n",
        "Recupera = [0.70, 0.80, 0.90]\n",
        "Nomes =['M','E','P']\n",
        "Resposta = []\n",
        "Num = len(Quantidades)\n",
        "for i in range(Num):\n",
        "  valor_separado = Quantidades[i]*Recupera[i]\n",
        "  Resposta.append(valor_separado)\n",
        "\n",
        "for k in range(Num):\n",
        "  print('componente',Nomes[k], Resposta[k])"
      ],
      "execution_count": 5,
      "outputs": [
        {
          "output_type": "stream",
          "text": [
            "componente M 21.0\n",
            "componente E 20.0\n",
            "componente P 9.0\n"
          ],
          "name": "stdout"
        }
      ]
    },
    {
      "cell_type": "code",
      "metadata": {
        "colab": {
          "base_uri": "https://localhost:8080/"
        },
        "id": "z7CtOgJ1IJpg",
        "outputId": "26dff9dc-be8f-4fc2-d234-43ca60999373"
      },
      "source": [
        "\n",
        "df = pd.DataFrame({'Nome': Nomes,'Quant':Quantidades,'Recupera %':Recupera,'Recuperado':Resposta})\n",
        "print(df)"
      ],
      "execution_count": 6,
      "outputs": [
        {
          "output_type": "stream",
          "text": [
            "  Nome  Quant  Recupera %  Recuperado\n",
            "0    M     30         0.7        21.0\n",
            "1    E     25         0.8        20.0\n",
            "2    P     10         0.9         9.0\n"
          ],
          "name": "stdout"
        }
      ]
    },
    {
      "cell_type": "code",
      "metadata": {
        "colab": {
          "base_uri": "https://localhost:8080/"
        },
        "id": "k_JpIihzKR3N",
        "outputId": "a4f2c0d7-2290-4c5e-fabb-532a3784bd0e"
      },
      "source": [
        "\n",
        "Quant =np.array([30, 25, 10]) \n",
        "Recup = np.array([0.70, 0.80, 0.90])\n",
        "Resp = Quant*Recup\n",
        "print(Resp)"
      ],
      "execution_count": 7,
      "outputs": [
        {
          "output_type": "stream",
          "text": [
            "[21. 20.  9.]\n"
          ],
          "name": "stdout"
        }
      ]
    },
    {
      "cell_type": "code",
      "metadata": {
        "colab": {
          "base_uri": "https://localhost:8080/"
        },
        "id": "BX0LAPPiNSyg",
        "outputId": "6a514b58-0520-4804-a1f3-4306022e9358"
      },
      "source": [
        "A = np.array([[0.9,0.3,0.1],[0.1,0.5,0.2],[0.0,0.2,0.7]])\n",
        "b = np.array([30.0,25.0,10.0])\n",
        "print(A)"
      ],
      "execution_count": 8,
      "outputs": [
        {
          "output_type": "stream",
          "text": [
            "[[0.9 0.3 0.1]\n",
            " [0.1 0.5 0.2]\n",
            " [0.  0.2 0.7]]\n"
          ],
          "name": "stdout"
        }
      ]
    },
    {
      "cell_type": "code",
      "metadata": {
        "colab": {
          "base_uri": "https://localhost:8080/"
        },
        "id": "PZbHWZPlO-nH",
        "outputId": "cc2c4ef7-1d8b-4a80-d386-640c7a95b61d"
      },
      "source": [
        "print(b)"
      ],
      "execution_count": 9,
      "outputs": [
        {
          "output_type": "stream",
          "text": [
            "[30. 25. 10.]\n"
          ],
          "name": "stdout"
        }
      ]
    },
    {
      "cell_type": "code",
      "metadata": {
        "colab": {
          "base_uri": "https://localhost:8080/"
        },
        "id": "8Gir-S09PDtF",
        "outputId": "4552bcba-376c-404a-d787-17b2ee5c95a2"
      },
      "source": [
        "print(A[0,1])"
      ],
      "execution_count": 10,
      "outputs": [
        {
          "output_type": "stream",
          "text": [
            "0.3\n"
          ],
          "name": "stdout"
        }
      ]
    },
    {
      "cell_type": "code",
      "metadata": {
        "colab": {
          "base_uri": "https://localhost:8080/"
        },
        "id": "O8DFj5QKPmNh",
        "outputId": "775dc538-16a6-4b2e-cc26-7c3039415990"
      },
      "source": [
        "print(A[0,:])"
      ],
      "execution_count": 11,
      "outputs": [
        {
          "output_type": "stream",
          "text": [
            "[0.9 0.3 0.1]\n"
          ],
          "name": "stdout"
        }
      ]
    },
    {
      "cell_type": "code",
      "metadata": {
        "colab": {
          "base_uri": "https://localhost:8080/"
        },
        "id": "zbKpdkhDPwSO",
        "outputId": "b91f50e7-5e58-475a-82d8-ba20c73b51ef"
      },
      "source": [
        "print(A[:,0])"
      ],
      "execution_count": 12,
      "outputs": [
        {
          "output_type": "stream",
          "text": [
            "[0.9 0.1 0. ]\n"
          ],
          "name": "stdout"
        }
      ]
    },
    {
      "cell_type": "code",
      "metadata": {
        "colab": {
          "base_uri": "https://localhost:8080/"
        },
        "id": "sHCwHY52P75g",
        "outputId": "bc71b773-7c17-4d12-ea96-07d498f29a3f"
      },
      "source": [
        "print(A[:,:-1])"
      ],
      "execution_count": 13,
      "outputs": [
        {
          "output_type": "stream",
          "text": [
            "[[0.9 0.3]\n",
            " [0.1 0.5]\n",
            " [0.  0.2]]\n"
          ],
          "name": "stdout"
        }
      ]
    },
    {
      "cell_type": "code",
      "metadata": {
        "colab": {
          "base_uri": "https://localhost:8080/"
        },
        "id": "CvLPKzqMQvjo",
        "outputId": "112771bb-e06a-4d02-fb22-2d0e1f756162"
      },
      "source": [
        "M = np.zeros((3,4))\n",
        "M[:,:-1] = A\n",
        "M[:,3] = b\n",
        "print(M)"
      ],
      "execution_count": 15,
      "outputs": [
        {
          "output_type": "stream",
          "text": [
            "[[ 0.9  0.3  0.1 30. ]\n",
            " [ 0.1  0.5  0.2 25. ]\n",
            " [ 0.   0.2  0.7 10. ]]\n"
          ],
          "name": "stdout"
        }
      ]
    }
  ]
}