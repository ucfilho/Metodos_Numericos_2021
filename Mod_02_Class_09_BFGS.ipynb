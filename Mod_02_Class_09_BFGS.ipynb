{
  "nbformat": 4,
  "nbformat_minor": 0,
  "metadata": {
    "colab": {
      "name": "Mod_02_Class_09_BFGS.ipynb",
      "provenance": [],
      "include_colab_link": true
    },
    "kernelspec": {
      "name": "python3",
      "display_name": "Python 3"
    }
  },
  "cells": [
    {
      "cell_type": "markdown",
      "metadata": {
        "id": "view-in-github",
        "colab_type": "text"
      },
      "source": [
        "<a href=\"https://colab.research.google.com/github/ucfilho/Metodos_Numericos_2021/blob/main/Mod_02_Class_09_BFGS.ipynb\" target=\"_parent\"><img src=\"https://colab.research.google.com/assets/colab-badge.svg\" alt=\"Open In Colab\"/></a>"
      ]
    },
    {
      "cell_type": "code",
      "metadata": {
        "id": "tLgv4gDnCbX1"
      },
      "source": [
        "import numpy  as np\n",
        "from scipy.optimize import minimize"
      ],
      "execution_count": 1,
      "outputs": []
    },
    {
      "cell_type": "code",
      "metadata": {
        "id": "AZJmGeqra0j2"
      },
      "source": [
        "def Minimo(x):\n",
        "\n",
        "  F1=x[0]**2 - x[1] + x[0]*np.cos(np.pi*x[0])\n",
        "  F2=x[0]*x[1] + np.exp(-x[1]) - x[0]**(-1.0)\n",
        "\n",
        "  if (abs(F1)>abs(F2)):\n",
        "    Valor = abs(F1)\n",
        "  else:\n",
        "    Valor = abs(F2)\n",
        "    \n",
        "  return Valor"
      ],
      "execution_count": 2,
      "outputs": []
    },
    {
      "cell_type": "code",
      "metadata": {
        "id": "XIC-e0jsJRVQ",
        "colab": {
          "base_uri": "https://localhost:8080/"
        },
        "outputId": "db0e7a54-41dc-4761-ad5d-e73b35797ad7"
      },
      "source": [
        "x0=np.array([2,0]) # initial guess of x\n",
        "res = minimize(Minimo, x0, method='BFGS',options={'gtol': 1e-10, 'disp': True})"
      ],
      "execution_count": 3,
      "outputs": [
        {
          "output_type": "stream",
          "text": [
            "Warning: Desired error not necessarily achieved due to precision loss.\n",
            "         Current function value: 0.000338\n",
            "         Iterations: 7\n",
            "         Function evaluations: 608\n",
            "         Gradient evaluations: 149\n"
          ],
          "name": "stdout"
        }
      ]
    },
    {
      "cell_type": "code",
      "metadata": {
        "id": "9vlafSt5LErN",
        "colab": {
          "base_uri": "https://localhost:8080/"
        },
        "outputId": "9cec3ae1-771f-4fc1-98c3-2ae82b192f05"
      },
      "source": [
        "print('fun=',res.fun)\n",
        "print('resposta=',res.x)"
      ],
      "execution_count": 4,
      "outputs": [
        {
          "output_type": "stream",
          "text": [
            "fun= 0.0003384533084340724\n",
            "resposta= [1.00033856e+00 7.85743682e-07]\n"
          ],
          "name": "stdout"
        }
      ]
    },
    {
      "cell_type": "code",
      "metadata": {
        "id": "UocQ-cq_Mn94"
      },
      "source": [
        "# https://sudonull.com/post/68834-BFGS-method-or-one-of-the-most-effective-optimization-methods-Python-implementation-example"
      ],
      "execution_count": 5,
      "outputs": []
    }
  ]
}