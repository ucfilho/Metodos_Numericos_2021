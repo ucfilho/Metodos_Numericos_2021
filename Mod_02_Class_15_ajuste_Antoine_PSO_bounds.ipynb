{
  "nbformat": 4,
  "nbformat_minor": 0,
  "metadata": {
    "colab": {
      "name": "Mod_02_Class_15_ajuste_Antoine_PSO_bounds.ipynb",
      "provenance": [],
      "include_colab_link": true
    },
    "kernelspec": {
      "name": "python3",
      "display_name": "Python 3"
    }
  },
  "cells": [
    {
      "cell_type": "markdown",
      "metadata": {
        "id": "view-in-github",
        "colab_type": "text"
      },
      "source": [
        "<a href=\"https://colab.research.google.com/github/ucfilho/Metodos_Numericos_2021/blob/main/Mod_02_Class_15_ajuste_Antoine_PSO_bounds.ipynb\" target=\"_parent\"><img src=\"https://colab.research.google.com/assets/colab-badge.svg\" alt=\"Open In Colab\"/></a>"
      ]
    },
    {
      "cell_type": "markdown",
      "metadata": {
        "id": "pi-6krrxnzzs"
      },
      "source": [
        "Solving multiple nonlinear algebraic equation"
      ]
    },
    {
      "cell_type": "code",
      "metadata": {
        "id": "rC-9DpuS7_SQ"
      },
      "source": [
        "import numpy as np\n",
        "import matplotlib.pyplot as plt\n",
        "import pandas as pd"
      ],
      "execution_count": 1,
      "outputs": []
    },
    {
      "cell_type": "code",
      "metadata": {
        "id": "dLu10zSy69bX"
      },
      "source": [
        "def FUNCTION(x):\n",
        "  A = x[0]\n",
        "  B = x[1]\n",
        "  C = x[2]\n",
        "  P = [1,5,10,20,40,60,100,200,400,760]\n",
        "  T = [-36.7,-19.6,-11.5,-2.6,7.6,15.4,26.1,42.2,60.6,80.1]\n",
        "  Num =10 # Num = len(P)\n",
        "  Soma = 0\n",
        "\n",
        "  for i in range(Num):\n",
        "    TC = T[i]\n",
        "    Pcal = np.exp((A - B/ (TC+C)))\n",
        "    Ptrue = P[i]\n",
        "    Soma = Soma + (Ptrue-Pcal)**2\n",
        "\n",
        "  return Soma"
      ],
      "execution_count": 2,
      "outputs": []
    },
    {
      "cell_type": "code",
      "metadata": {
        "id": "RDneMeuE8P1x"
      },
      "source": [
        "import numpy as np\n",
        "\n",
        "\n",
        "def Enxame(PAR,NPAR,MAX,MIN):\n",
        "    x=np.zeros((NPAR, len(MAX)))\n",
        "    for j in range(len(MAX)):\n",
        "        for i in range(NPAR):\n",
        "            x[i,j]=MIN[j]+(MAX[j]-MIN[j])*np.random.random()\n",
        "    return x\n",
        "\n",
        "def OBJ(x):\n",
        "    rows = len(x)\n",
        "    cols = len(x[0])\n",
        "    fobj=np.zeros(rows)\n",
        "    for i in range(rows):\n",
        "        for j in range(cols):\n",
        "            fobj[i]=FUNCTION(x[i,])\n",
        "    return fobj\n",
        "    # return fobj.min()\n",
        "\n",
        "def VALOR(x):\n",
        "    fob=FUNCTION(x)\n",
        "    return fob\n",
        "\n",
        "def BEST(X,RBEST):\n",
        "    rows = len(X)\n",
        "    cols = len(X[0])\n",
        "    YCAL=OBJ(X)\n",
        "    NEW=VALOR(RBEST)\n",
        "    for i in range(rows):\n",
        "        for j in range(cols):\n",
        "            if(YCAL[i]<NEW):\n",
        "                RBEST[j]=X[i,j]\n",
        "    return RBEST\n",
        "\n",
        "def PART(X,PBEST):\n",
        "    rows = len(X)\n",
        "    cols = len(X[0])\n",
        "    YCAL=OBJ(PBEST)\n",
        "    NEW=OBJ(X).min()\n",
        "    for i in range(rows):\n",
        "        for j in range(cols):\n",
        "            if(YCAL[i]>NEW):\n",
        "                PBEST[i,j]=X[i,j]\n",
        "    return PBEST\n",
        "\n",
        "def VE(X,VEL,BEST,PBEST,W,C1,C2):\n",
        "    rows = len(X)\n",
        "    cols = len(X[0])\n",
        "    for i in range(rows):\n",
        "        for j in range(cols):\n",
        "            R1=np.random.random()\n",
        "            R2=np.random.random()\n",
        "            VEL[i,j]=W*VEL[i,j]+C1*R1*(PBEST[i,j]-X[i,j])+C2*R2*(BEST[j]-X[i,j])\n",
        "            X[i,j]=X[i,j]+VEL[i,j]\n",
        "    return VEL,X\n",
        "\n",
        "def SetBounds(X,MAX,MIN):\n",
        "  rows = len(X)\n",
        "  cols = len(X[0])\n",
        "  for i in range(rows):\n",
        "    for j in range(cols):\n",
        "      if((X[i,j] > MAX[j]) or (X[i,j] < MIN[j])) :\n",
        "        X[i,j]= MIN[j]+np.random.random()*(MAX[j]-MIN[j])\n",
        "  return X\n",
        "\n",
        "def PSO(W,C1,C2,NPAR,ITE,PAR,MAX,MIN):\n",
        "    X=Enxame(PAR,NPAR,MAX,MIN) # CRIA A POPULACAO\n",
        "    ycal=OBJ(X) # CALCULA A FUNCAO OBJETIVO PARA TODAS PARTICULAS\n",
        "    PBEST=PART(X,X) # O MELHOR LOCAL DE CADA PARTICULA INICIALMENTE ALEATORIA\n",
        "    VBEST=[]\n",
        "    for i in range(PAR):\n",
        "        VBEST.append(1e10)\n",
        "    VBEST=BEST(X,VBEST)\n",
        "    VELOC=Enxame(PAR,NPAR,MAX,MIN)# VELOCIDADES INICIALMENTE ALEATORIAS\n",
        "    RESP=[]\n",
        "    for k in range(ITE):\n",
        "        yteste=VALOR(VBEST)\n",
        "        VELOC, X=VE(X,VELOC,VBEST,PBEST,W,C1,C2)\n",
        "        X = SetBounds(X,MAX,MIN)\n",
        "        VBEST=BEST(X,VBEST)\n",
        "        PBEST=PART(X,PBEST)\n",
        "        yteste=VALOR(VBEST)\n",
        "        RESP.append(yteste)\n",
        "    return RESP,VBEST"
      ],
      "execution_count": 3,
      "outputs": []
    },
    {
      "cell_type": "code",
      "metadata": {
        "colab": {
          "base_uri": "https://localhost:8080/"
        },
        "id": "omoawV0m1n31",
        "outputId": "54c809d3-5173-4c1c-ddef-9228f167f73b"
      },
      "source": [
        "W=0.75\n",
        "C1=2\n",
        "C2=2\n",
        "NPAR=200 #PARTICULAS\n",
        "ITE=2000 #ITERACOES\n",
        "PAR=3 #NUM DE PARAMETROS A SER OTIMIZADOS\n",
        "MAX=[1000,3000,1000] # MAXIMO DE CADA PARAMETRO\n",
        "MIN=[0,0,0] # MINIMO DE CADA PARAMETRO\n",
        "\n",
        "#resp=PSOnew.PSO(W,C1,C2,NPAR,ITE,PAR,MAX,MIN)\n",
        "resp,best= PSO(W,C1,C2,NPAR,ITE,PAR,MAX,MIN)\n",
        "\n",
        "for i in range(ITE):\n",
        "    if((i+1)%200==0):\n",
        "        print(\"iteracao=\",i+1,\"f obj=\",resp[i])\n",
        "print(best)"
      ],
      "execution_count": 4,
      "outputs": [
        {
          "output_type": "stream",
          "text": [
            "/usr/local/lib/python3.7/dist-packages/ipykernel_launcher.py:14: RuntimeWarning: overflow encountered in double_scalars\n",
            "  \n",
            "/usr/local/lib/python3.7/dist-packages/ipykernel_launcher.py:12: RuntimeWarning: overflow encountered in exp\n",
            "  if sys.path[0] == '':\n"
          ],
          "name": "stderr"
        },
        {
          "output_type": "stream",
          "text": [
            "iteracao= 200 f obj= 3485.0089740901885\n",
            "iteracao= 400 f obj= 3187.5878035569904\n",
            "iteracao= 600 f obj= 3187.136032537132\n",
            "iteracao= 800 f obj= 3187.136032537132\n",
            "iteracao= 1000 f obj= 66.42019473253148\n",
            "iteracao= 1200 f obj= 39.767946506195216\n",
            "iteracao= 1400 f obj= 39.767946506195216\n",
            "iteracao= 1600 f obj= 39.767946506195216\n",
            "iteracao= 1800 f obj= 39.767946506195216\n",
            "iteracao= 2000 f obj= 39.767946506195216\n",
            "[16.112150635621436, 2915.2374808674294, 227.48345050604348]\n"
          ],
          "name": "stdout"
        }
      ]
    },
    {
      "cell_type": "code",
      "metadata": {
        "id": "07wVkn5h919f"
      },
      "source": [
        "w = best\n",
        "A = w[0]\n",
        "B = w[1]\n",
        "C = w[2]\n",
        "Pcalc = []\n",
        "\n",
        "# A, B, C = Resultado.x\n",
        "P = [1,5,10,20,40,60,100,200,400,760]\n",
        "T = [-36.7,-19.6,-11.5,-2.6,7.6,15.4,26.1,42.2,60.6,80.1]\n",
        "Num =10\n",
        "\n",
        "for i in range(Num):\n",
        "  TC =T[i]\n",
        "  Pi = np.exp((A - B/ (TC+C)))\n",
        "  Pcalc.append(Pi)"
      ],
      "execution_count": 5,
      "outputs": []
    },
    {
      "cell_type": "code",
      "metadata": {
        "id": "6HHKwk1qHGcu",
        "colab": {
          "base_uri": "https://localhost:8080/",
          "height": 286
        },
        "outputId": "3686c794-1a86-462d-c473-57935a90f65b"
      },
      "source": [
        "plt.scatter(P,Pcalc)\n",
        "plt.xlim([0,800])\n",
        "plt.ylim([0,800])"
      ],
      "execution_count": 6,
      "outputs": [
        {
          "output_type": "execute_result",
          "data": {
            "text/plain": [
              "(0.0, 800.0)"
            ]
          },
          "metadata": {
            "tags": []
          },
          "execution_count": 6
        },
        {
          "output_type": "display_data",
          "data": {
            "image/png": "[encoded data removed]",
            "text/plain": [
              "<Figure size 432x288 with 1 Axes>"
            ]
          },
          "metadata": {
            "tags": [],
            "needs_background": "light"
          }
        }
      ]
    },
    {
      "cell_type": "code",
      "metadata": {
        "colab": {
          "base_uri": "https://localhost:8080/",
          "height": 343
        },
        "id": "GFXwOW2u_PQ2",
        "outputId": "9f554406-7605-430a-a9a4-7dd3fabc19fc"
      },
      "source": [
        "pd.DataFrame({'Ptrue':P,'Pcalc':Pcalc})"
      ],
      "execution_count": 7,
      "outputs": [
        {
          "output_type": "execute_result",
          "data": {
            "text/html": [
              "<div>\n",
              "<style scoped>\n",
              "    .dataframe tbody tr th:only-of-type {\n",
              "        vertical-align: middle;\n",
              "    }\n",
              "\n",
              "    .dataframe tbody tr th {\n",
              "        vertical-align: top;\n",
              "    }\n",
              "\n",
              "    .dataframe thead th {\n",
              "        text-align: right;\n",
              "    }\n",
              "</style>\n",
              "<table border=\"1\" class=\"dataframe\">\n",
              "  <thead>\n",
              "    <tr style=\"text-align: right;\">\n",
              "      <th></th>\n",
              "      <th>Ptrue</th>\n",
              "      <th>Pcalc</th>\n",
              "    </tr>\n",
              "  </thead>\n",
              "  <tbody>\n",
              "    <tr>\n",
              "      <th>0</th>\n",
              "      <td>1</td>\n",
              "      <td>2.297457</td>\n",
              "    </tr>\n",
              "    <tr>\n",
              "      <th>1</th>\n",
              "      <td>5</td>\n",
              "      <td>8.074638</td>\n",
              "    </tr>\n",
              "    <tr>\n",
              "      <th>2</th>\n",
              "      <td>10</td>\n",
              "      <td>13.662388</td>\n",
              "    </tr>\n",
              "    <tr>\n",
              "      <th>3</th>\n",
              "      <td>20</td>\n",
              "      <td>23.308652</td>\n",
              "    </tr>\n",
              "    <tr>\n",
              "      <th>4</th>\n",
              "      <td>40</td>\n",
              "      <td>40.906477</td>\n",
              "    </tr>\n",
              "    <tr>\n",
              "      <th>5</th>\n",
              "      <td>60</td>\n",
              "      <td>60.918188</td>\n",
              "    </tr>\n",
              "    <tr>\n",
              "      <th>6</th>\n",
              "      <td>100</td>\n",
              "      <td>101.087298</td>\n",
              "    </tr>\n",
              "    <tr>\n",
              "      <th>7</th>\n",
              "      <td>200</td>\n",
              "      <td>200.798367</td>\n",
              "    </tr>\n",
              "    <tr>\n",
              "      <th>8</th>\n",
              "      <td>400</td>\n",
              "      <td>400.506686</td>\n",
              "    </tr>\n",
              "    <tr>\n",
              "      <th>9</th>\n",
              "      <td>760</td>\n",
              "      <td>760.727859</td>\n",
              "    </tr>\n",
              "  </tbody>\n",
              "</table>\n",
              "</div>"
            ],
            "text/plain": [
              "   Ptrue       Pcalc\n",
              "0      1    2.297457\n",
              "1      5    8.074638\n",
              "2     10   13.662388\n",
              "3     20   23.308652\n",
              "4     40   40.906477\n",
              "5     60   60.918188\n",
              "6    100  101.087298\n",
              "7    200  200.798367\n",
              "8    400  400.506686\n",
              "9    760  760.727859"
            ]
          },
          "metadata": {
            "tags": []
          },
          "execution_count": 7
        }
      ]
    }
  ]
}