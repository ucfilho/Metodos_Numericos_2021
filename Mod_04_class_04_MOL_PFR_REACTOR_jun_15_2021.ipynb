{
  "nbformat": 4,
  "nbformat_minor": 0,
  "metadata": {
    "kernelspec": {
      "display_name": "Python 3",
      "language": "python",
      "name": "python3"
    },
    "language_info": {
      "codemirror_mode": {
        "name": "ipython",
        "version": 3
      },
      "file_extension": ".py",
      "mimetype": "text/x-python",
      "name": "python",
      "nbconvert_exporter": "python",
      "pygments_lexer": "ipython3",
      "version": "3.8.3"
    },
    "colab": {
      "name": "Mod_04_class_04_MOL_PFR_REACTOR_jun_15_2021.ipynb",
      "provenance": [],
      "include_colab_link": true
    }
  },
  "cells": [
    {
      "cell_type": "markdown",
      "metadata": {
        "id": "view-in-github",
        "colab_type": "text"
      },
      "source": [
        "<a href=\"https://colab.research.google.com/github/ucfilho/Metodos_Numericos_2021/blob/main/Mod_04_class_04_MOL_PFR_REACTOR_jun_15_2021.ipynb\" target=\"_parent\"><img src=\"https://colab.research.google.com/assets/colab-badge.svg\" alt=\"Open In Colab\"/></a>"
      ]
    },
    {
      "cell_type": "code",
      "metadata": {
        "id": "yMFqOrtelP9j"
      },
      "source": [
        "import numpy as np\n",
        "from scipy.integrate import odeint\n",
        "import matplotlib.pyplot as plt"
      ],
      "execution_count": 1,
      "outputs": []
    },
    {
      "cell_type": "code",
      "metadata": {
        "id": "ZR1u6zGllRxB"
      },
      "source": [
        "#https://kitchingroup.cheme.cmu.edu/blog/category/animation/\n",
        "# Carnegie Mellon University\n",
        "# Pittsburgh, PA"
      ],
      "execution_count": 2,
      "outputs": []
    },
    {
      "cell_type": "markdown",
      "metadata": {
        "id": "eXULzgHFli5P"
      },
      "source": [
        "$\\frac{\\partial C_A}{\\partial dt} = -\\nu_0 \\frac{\\partial C_A}{\\partial dV} + r_A $"
      ]
    },
    {
      "cell_type": "markdown",
      "metadata": {
        "id": "lVfGvE8tlTho"
      },
      "source": [
        "\\begin{eqnarray} \\frac{dC_0}{dt} &=& 0 \\text{ (entrance concentration never changes)} \\\\ \\frac{dC_1}{dt} &=& -\\nu_0 \\frac{C_1 - C_0}{V_1 - V_0} - k C_1^2 \\\\ \\frac{dC_2}{dt} &=& -\\nu_0 \\frac{C_2 - C_1}{V_2 - V_1} - k C_2^2 \\\\ \\vdots \\\\ \\frac{dC_4}{dt} &=& -\\nu_0 \\frac{C_4 - C_3}{V_4 - V_3} - k C_4^2 \\end{eqnarray}"
      ]
    },
    {
      "cell_type": "code",
      "metadata": {
        "id": "UjVzR_nZlP9k"
      },
      "source": [
        "Ca0 = 2     # Entering concentration\n",
        "vo = 2      # volumetric flow rate\n",
        "volume = 20 # total volume of reactor, spacetime = 10\n",
        "k = 1       # reaction rate constant\n",
        "\n",
        "N = 100     # number of points to discretize the reactor volume on\n",
        "\n",
        "init = np.zeros(N)    # Concentration in reactor at t = 0\n",
        "init[0] = Ca0         # concentration at entrance\n",
        "\n",
        "V = np.linspace(0, volume, N) # discretized volume elements\n",
        "tspan = np.linspace(0, 25)    # time span to integrate over\n",
        "\n",
        "def method_of_lines(C, t):\n",
        "    'coupled ODES at each node point'\n",
        "    derivadas = np.zeros(N)\n",
        "    for i in range(1,N):\n",
        "      derivadas[i] = -vo * (C[i]-C[i-1]) / (V[i]-V[i-1]) - k * C[i]**2\n",
        "    return derivadas\n",
        "\n",
        "sol = odeint(method_of_lines, init, tspan)\n",
        "\n",
        "# steady state solution\n",
        "def pfr(C, V):\n",
        "    return 1.0 / vo * (-k * C**2)\n",
        "\n",
        "ssol = odeint(pfr, Ca0, V)"
      ],
      "execution_count": 3,
      "outputs": []
    },
    {
      "cell_type": "code",
      "metadata": {
        "colab": {
          "base_uri": "https://localhost:8080/",
          "height": 279
        },
        "id": "XGEsZ2aGlP9k",
        "outputId": "6df708c6-a530-4003-dc92-3770923d0d41"
      },
      "source": [
        "\n",
        "plt.plot(tspan, sol[:, -1])\n",
        "plt.xlabel('time')\n",
        "plt.ylabel('$C_A$ at exit')\n",
        "plt.savefig('transient-pfr-1.png')"
      ],
      "execution_count": 4,
      "outputs": [
        {
          "output_type": "display_data",
          "data": {
            "image/png": "[encoded data removed]",
            "text/plain": [
              "<Figure size 432x288 with 1 Axes>"
            ]
          },
          "metadata": {
            "tags": [],
            "needs_background": "light"
          }
        }
      ]
    },
    {
      "cell_type": "code",
      "metadata": {
        "colab": {
          "base_uri": "https://localhost:8080/",
          "height": 279
        },
        "id": "3EZMTQYzmGI9",
        "outputId": "83879a8d-9911-431c-c9ce-6577ddaf2549"
      },
      "source": [
        "plt.figure()\n",
        "plt.plot(V, ssol, label='Steady state')\n",
        "plt.plot(V, sol[-1], label='t = {}'.format(tspan[-1]))\n",
        "plt.xlabel('Volume')\n",
        "plt.ylabel('$C_A$')\n",
        "plt.legend(loc='best')\n",
        "plt.savefig('transient-pfr-2.png')"
      ],
      "execution_count": 5,
      "outputs": [
        {
          "output_type": "display_data",
          "data": {
            "image/png": "[encoded data removed]",
            "text/plain": [
              "<Figure size 432x288 with 1 Axes>"
            ]
          },
          "metadata": {
            "tags": [],
            "needs_background": "light"
          }
        }
      ]
    },
    {
      "cell_type": "code",
      "metadata": {
        "colab": {
          "base_uri": "https://localhost:8080/",
          "height": 17
        },
        "id": "PqdIEwLKys8O",
        "outputId": "28b59cba-4d55-4444-ff18-8b1375a07577"
      },
      "source": [
        "Arq = 'transient-pfr-2.png'\n",
        "from google.colab import files\n",
        "files.download(Arq)"
      ],
      "execution_count": 6,
      "outputs": [
        {
          "output_type": "display_data",
          "data": {
            "application/javascript": [
              "\n",
              "    async function download(id, filename, size) {\n",
              "      if (!google.colab.kernel.accessAllowed) {\n",
              "        return;\n",
              "      }\n",
              "      const div = document.createElement('div');\n",
              "      const label = document.createElement('label');\n",
              "      label.textContent = `Downloading \"${filename}\": `;\n",
              "      div.appendChild(label);\n",
              "      const progress = document.createElement('progress');\n",
              "      progress.max = size;\n",
              "      div.appendChild(progress);\n",
              "      document.body.appendChild(div);\n",
              "\n",
              "      const buffers = [];\n",
              "      let downloaded = 0;\n",
              "\n",
              "      const channel = await google.colab.kernel.comms.open(id);\n",
              "      // Send a message to notify the kernel that we're ready.\n",
              "      channel.send({})\n",
              "\n",
              "      for await (const message of channel.messages) {\n",
              "        // Send a message to notify the kernel that we're ready.\n",
              "        channel.send({})\n",
              "        if (message.buffers) {\n",
              "          for (const buffer of message.buffers) {\n",
              "            buffers.push(buffer);\n",
              "            downloaded += buffer.byteLength;\n",
              "            progress.value = downloaded;\n",
              "          }\n",
              "        }\n",
              "      }\n",
              "      const blob = new Blob(buffers, {type: 'application/binary'});\n",
              "      const a = document.createElement('a');\n",
              "      a.href = window.URL.createObjectURL(blob);\n",
              "      a.download = filename;\n",
              "      div.appendChild(a);\n",
              "      a.click();\n",
              "      div.remove();\n",
              "    }\n",
              "  "
            ],
            "text/plain": [
              "<IPython.core.display.Javascript object>"
            ]
          },
          "metadata": {
            "tags": []
          }
        },
        {
          "output_type": "display_data",
          "data": {
            "application/javascript": [
              "download(\"download_7b7ab57d-36bc-4022-82d0-c541bbf9324a\", \"transient-pfr-2.png\", 15800)"
            ],
            "text/plain": [
              "<IPython.core.display.Javascript object>"
            ]
          },
          "metadata": {
            "tags": []
          }
        }
      ]
    }
  ]
}