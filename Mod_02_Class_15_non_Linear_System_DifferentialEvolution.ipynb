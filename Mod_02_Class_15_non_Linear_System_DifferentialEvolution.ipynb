{
  "nbformat": 4,
  "nbformat_minor": 0,
  "metadata": {
    "colab": {
      "name": "Mod_02_Class_15_non_Linear_System_DifferentialEvolution.ipynb",
      "provenance": [],
      "include_colab_link": true
    },
    "kernelspec": {
      "name": "python3",
      "display_name": "Python 3"
    }
  },
  "cells": [
    {
      "cell_type": "markdown",
      "metadata": {
        "id": "view-in-github",
        "colab_type": "text"
      },
      "source": [
        "<a href=\"https://colab.research.google.com/github/ucfilho/Metodos_Numericos_2021/blob/main/Mod_02_Class_15_non_Linear_System_DifferentialEvolution.ipynb\" target=\"_parent\"><img src=\"https://colab.research.google.com/assets/colab-badge.svg\" alt=\"Open In Colab\"/></a>"
      ]
    },
    {
      "cell_type": "code",
      "metadata": {
        "id": "tLgv4gDnCbX1"
      },
      "source": [
        "import numpy  as np\n",
        "from scipy.optimize import differential_evolution"
      ],
      "execution_count": null,
      "outputs": []
    },
    {
      "cell_type": "code",
      "metadata": {
        "id": "AZJmGeqra0j2"
      },
      "source": [
        "def FUNCTION(x):\n",
        "  F =np.zeros(2)\n",
        "  F[0] = x[0]**2 - x[1] + x[0]*cos(pi*x[0])\n",
        "  F[1] = x[0]*x[1] + exp(-x[1]) - x[0]**(-1.0)\n",
        "   \n",
        "  Num = len(F)\n",
        "  List = []\n",
        "  \n",
        "  for i in F:\n",
        "    List.append(abs(i))\n",
        "  \n",
        "  Max = np.max(np.array(List))\n",
        "\n",
        "  return Max"
      ],
      "execution_count": null,
      "outputs": []
    },
    {
      "cell_type": "code",
      "metadata": {
        "id": "XIC-e0jsJRVQ",
        "colab": {
          "base_uri": "https://localhost:8080/"
        },
        "outputId": "bd437ef4-2513-4f19-cb3d-641c3f72bb90"
      },
      "source": [
        "bounds = [(-5,5), (-5, 5)]\n",
        "Resultado = differential_evolution(Minimo, bounds,maxiter=200, popsize= 50)"
      ],
      "execution_count": null,
      "outputs": [
        {
          "output_type": "stream",
          "text": [
            "/usr/local/lib/python3.7/dist-packages/ipykernel_launcher.py:14: RuntimeWarning: overflow encountered in double_scalars\n",
            "  \n",
            "/usr/local/lib/python3.7/dist-packages/ipykernel_launcher.py:12: RuntimeWarning: overflow encountered in exp\n",
            "  if sys.path[0] == '':\n",
            "/usr/local/lib/python3.7/dist-packages/numpy/core/_methods.py:205: RuntimeWarning: overflow encountered in multiply\n",
            "  x = um.multiply(x, x, out=x)\n"
          ],
          "name": "stderr"
        }
      ]
    },
    {
      "cell_type": "code",
      "metadata": {
        "id": "9vlafSt5LErN",
        "colab": {
          "base_uri": "https://localhost:8080/"
        },
        "outputId": "567a08f1-9ec7-478d-f2d0-0642a9c9b7e4"
      },
      "source": [
        "print('fun=',Resultado.fun)\n",
        "print('resposta=',Resultado.x)"
      ],
      "execution_count": null,
      "outputs": [
        {
          "output_type": "stream",
          "text": [
            "fun= 15.964840249867391\n",
            "resposta= [  15.23144152 2424.6129714   201.87891389]\n"
          ],
          "name": "stdout"
        }
      ]
    },
    {
      "cell_type": "code",
      "metadata": {
        "colab": {
          "base_uri": "https://localhost:8080/"
        },
        "id": "PM1FZ6pkcDPQ",
        "outputId": "804324eb-6dca-4780-92ed-5ee1abb0edf6"
      },
      "source": [
        "Resultado.x"
      ],
      "execution_count": null,
      "outputs": [
        {
          "output_type": "execute_result",
          "data": {
            "text/plain": [
              "array([  15.23144152, 2424.6129714 ,  201.87891389])"
            ]
          },
          "metadata": {
            "tags": []
          },
          "execution_count": 5
        }
      ]
    }
  ]
}