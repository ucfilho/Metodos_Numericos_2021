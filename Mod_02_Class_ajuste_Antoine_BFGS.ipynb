{
  "nbformat": 4,
  "nbformat_minor": 0,
  "metadata": {
    "colab": {
      "name": "Mod_02_Class_ajuste_Antoine_BFGS.ipynb",
      "provenance": [],
      "include_colab_link": true
    },
    "kernelspec": {
      "name": "python3",
      "display_name": "Python 3"
    }
  },
  "cells": [
    {
      "cell_type": "markdown",
      "metadata": {
        "id": "view-in-github",
        "colab_type": "text"
      },
      "source": [
        "<a href=\"https://colab.research.google.com/github/ucfilho/Metodos_Numericos_2021/blob/main/Mod_02_Class_ajuste_Antoine_BFGS.ipynb\" target=\"_parent\"><img src=\"https://colab.research.google.com/assets/colab-badge.svg\" alt=\"Open In Colab\"/></a>"
      ]
    },
    {
      "cell_type": "code",
      "metadata": {
        "id": "tLgv4gDnCbX1"
      },
      "source": [
        "import numpy  as np\n",
        "from scipy.optimize import minimize"
      ],
      "execution_count": null,
      "outputs": []
    },
    {
      "cell_type": "code",
      "metadata": {
        "id": "AZJmGeqra0j2"
      },
      "source": [
        "def Minimo(x):\n",
        "  A = x[0]\n",
        "  B = x[1]\n",
        "  C = x[2]\n",
        "  P = [1,5,10,20,40,60,100,200,400,760]\n",
        "  T = [-36.7,-19.6,-11.5,-2.6,7.6,15.4,26.1,42.2,60.6,80.1]\n",
        "  Num =10 # Num = len(P)\n",
        "  Soma = 0\n",
        "\n",
        "  for i in range(Num):\n",
        "    TC = T[i]\n",
        "    Pcal = np.exp(A + B/ (TC+273.15))\n",
        "    Ptrue = P[i]\n",
        "    Soma = Soma + (Ptrue-Pcal)**2\n",
        "\n",
        "  return Soma"
      ],
      "execution_count": null,
      "outputs": []
    },
    {
      "cell_type": "code",
      "metadata": {
        "id": "XIC-e0jsJRVQ",
        "colab": {
          "base_uri": "https://localhost:8080/"
        },
        "outputId": "49e8c088-7588-41c1-8f8c-cb61ac211b17"
      },
      "source": [
        "x0=np.array([5,5,10]) # initial guess of x\n",
        "Resultado = minimize(Minimo, x0, method='BFGS',options={'gtol': 1e-10, 'disp': True})"
      ],
      "execution_count": null,
      "outputs": [
        {
          "output_type": "stream",
          "text": [
            "Warning: Desired error not necessarily achieved due to precision loss.\n",
            "         Current function value: 0.000338\n",
            "         Iterations: 7\n",
            "         Function evaluations: 608\n",
            "         Gradient evaluations: 149\n"
          ],
          "name": "stdout"
        }
      ]
    },
    {
      "cell_type": "code",
      "metadata": {
        "id": "9vlafSt5LErN",
        "colab": {
          "base_uri": "https://localhost:8080/"
        },
        "outputId": "b1e92510-ee0d-4742-c32f-f61c343a9971"
      },
      "source": [
        "print('fun=',Resultado.fun)\n",
        "print('resposta=',Resultado.x)"
      ],
      "execution_count": null,
      "outputs": [
        {
          "output_type": "stream",
          "text": [
            "fun= 0.0003384533084340724\n",
            "resposta= [1.00033856e+00 7.85743682e-07]\n"
          ],
          "name": "stdout"
        }
      ]
    },
    {
      "cell_type": "code",
      "metadata": {
        "colab": {
          "base_uri": "https://localhost:8080/"
        },
        "id": "PM1FZ6pkcDPQ",
        "outputId": "bf48a0a7-6d46-4d9c-8b11-fc76ca12f162"
      },
      "source": [
        "Resultado.x"
      ],
      "execution_count": null,
      "outputs": [
        {
          "output_type": "execute_result",
          "data": {
            "text/plain": [
              "array([1.00033856e+00, 7.85743682e-07])"
            ]
          },
          "metadata": {
            "tags": []
          },
          "execution_count": 8
        }
      ]
    },
    {
      "cell_type": "code",
      "metadata": {
        "id": "UocQ-cq_Mn94"
      },
      "source": [
        "# https://sudonull.com/post/68834-BFGS-method-or-one-of-the-most-effective-optimization-methods-Python-implementation-example"
      ],
      "execution_count": null,
      "outputs": []
    }
  ]
}