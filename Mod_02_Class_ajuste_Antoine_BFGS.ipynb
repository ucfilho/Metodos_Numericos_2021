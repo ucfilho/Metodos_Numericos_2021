{
  "nbformat": 4,
  "nbformat_minor": 0,
  "metadata": {
    "colab": {
      "name": "Mod_02_Class_ajuste_Antoine_BFGS.ipynb",
      "provenance": [],
      "include_colab_link": true
    },
    "kernelspec": {
      "name": "python3",
      "display_name": "Python 3"
    }
  },
  "cells": [
    {
      "cell_type": "markdown",
      "metadata": {
        "id": "view-in-github",
        "colab_type": "text"
      },
      "source": [
        "<a href=\"https://colab.research.google.com/github/ucfilho/Metodos_Numericos_2021/blob/main/Mod_02_Class_ajuste_Antoine_BFGS.ipynb\" target=\"_parent\"><img src=\"https://colab.research.google.com/assets/colab-badge.svg\" alt=\"Open In Colab\"/></a>"
      ]
    },
    {
      "cell_type": "code",
      "metadata": {
        "id": "tLgv4gDnCbX1"
      },
      "source": [
        "import numpy  as np\n",
        "from scipy.optimize import minimize\n",
        "import matplotlib.pyplot as plt\n"
      ],
      "execution_count": 1,
      "outputs": []
    },
    {
      "cell_type": "code",
      "metadata": {
        "id": "AZJmGeqra0j2"
      },
      "source": [
        "def Minimo(x):\n",
        "  A = x[0]\n",
        "  B = x[1]\n",
        "  C = x[2]\n",
        "  P = [1,5,10,20,40,60,100,200,400,760]\n",
        "  T = [-36.7,-19.6,-11.5,-2.6,7.6,15.4,26.1,42.2,60.6,80.1]\n",
        "  Num =10 # Num = len(P)\n",
        "  Soma = 0\n",
        "\n",
        "  for i in range(Num):\n",
        "    TC = T[i]\n",
        "    Pcal = np.exp(A + B/ (TC+273.15))\n",
        "    Ptrue = P[i]\n",
        "    Soma = Soma + (Ptrue-Pcal)**2\n",
        "\n",
        "  return Soma"
      ],
      "execution_count": 2,
      "outputs": []
    },
    {
      "cell_type": "code",
      "metadata": {
        "id": "XIC-e0jsJRVQ",
        "colab": {
          "base_uri": "https://localhost:8080/"
        },
        "outputId": "11e4bc21-b8c1-40ce-d429-45009425c1d0"
      },
      "source": [
        "x0=np.array([5,5,10]) # initial guess of x\n",
        "Resultado = minimize(Minimo, x0, method='BFGS',options={'gtol': 1e-10, 'disp': True})"
      ],
      "execution_count": 3,
      "outputs": [
        {
          "output_type": "stream",
          "text": [
            "Warning: Desired error not necessarily achieved due to precision loss.\n",
            "         Current function value: 103.754841\n",
            "         Iterations: 16\n",
            "         Function evaluations: 414\n",
            "         Gradient evaluations: 81\n"
          ],
          "name": "stdout"
        }
      ]
    },
    {
      "cell_type": "code",
      "metadata": {
        "id": "9vlafSt5LErN",
        "colab": {
          "base_uri": "https://localhost:8080/"
        },
        "outputId": "22702758-66b5-4fed-bbec-25d942579f35"
      },
      "source": [
        "print('fun=',Resultado.fun)\n",
        "print('resposta=',Resultado.x)"
      ],
      "execution_count": 4,
      "outputs": [
        {
          "output_type": "stream",
          "text": [
            "fun= 103.75484109248663\n",
            "resposta= [   17.84618316 -3960.01801084    10.        ]\n"
          ],
          "name": "stdout"
        }
      ]
    },
    {
      "cell_type": "code",
      "metadata": {
        "colab": {
          "base_uri": "https://localhost:8080/"
        },
        "id": "PM1FZ6pkcDPQ",
        "outputId": "a5e17e1e-92cd-48f2-bddc-5cbf630e9e7c"
      },
      "source": [
        "Resultado.x"
      ],
      "execution_count": 5,
      "outputs": [
        {
          "output_type": "execute_result",
          "data": {
            "text/plain": [
              "array([   17.84618316, -3960.01801084,    10.        ])"
            ]
          },
          "metadata": {
            "tags": []
          },
          "execution_count": 5
        }
      ]
    },
    {
      "cell_type": "code",
      "metadata": {
        "colab": {
          "base_uri": "https://localhost:8080/"
        },
        "id": "T3tNZLOJhCBz",
        "outputId": "1744fc92-1e76-4e7f-df37-7a562c6b3ee1"
      },
      "source": [
        "w = Resultado.x\n",
        "A = w[0]\n",
        "B = w[1]\n",
        "C = w[2]\n",
        "Pcalc = []\n",
        "\n",
        "# A, B, C = Resultado.x\n",
        "P = [1,5,10,20,40,60,100,200,400,760]\n",
        "T = [-36.7,-19.6,-11.5,-2.6,7.6,15.4,26.1,42.2,60.6,80.1]\n",
        "Num =10\n",
        "\n",
        "for i in range(Num):\n",
        "  TC =T[i]\n",
        "  Pi = np.exp(A+B/(TC+C))\n",
        "  Pcalc.append(Pi)\n"
      ],
      "execution_count": 6,
      "outputs": [
        {
          "output_type": "stream",
          "text": [
            "/usr/local/lib/python3.7/dist-packages/ipykernel_launcher.py:14: RuntimeWarning: overflow encountered in exp\n",
            "  \n"
          ],
          "name": "stderr"
        }
      ]
    },
    {
      "cell_type": "code",
      "metadata": {
        "colab": {
          "base_uri": "https://localhost:8080/",
          "height": 293
        },
        "id": "DI2JdcaOiNC8",
        "outputId": "57dbf3f5-163c-4d28-89ba-b2fa99834262"
      },
      "source": [
        "plt.scatter(P,Pcalc)"
      ],
      "execution_count": 7,
      "outputs": [
        {
          "output_type": "execute_result",
          "data": {
            "text/plain": [
              "<matplotlib.collections.PathCollection at 0x7ff9f4413a10>"
            ]
          },
          "metadata": {
            "tags": []
          },
          "execution_count": 7
        },
        {
          "output_type": "display_data",
          "data": {
            "image/png": "[encoded data removed]",
            "text/plain": [
              "<Figure size 432x288 with 1 Axes>"
            ]
          },
          "metadata": {
            "tags": [],
            "needs_background": "light"
          }
        }
      ]
    }
  ]
}