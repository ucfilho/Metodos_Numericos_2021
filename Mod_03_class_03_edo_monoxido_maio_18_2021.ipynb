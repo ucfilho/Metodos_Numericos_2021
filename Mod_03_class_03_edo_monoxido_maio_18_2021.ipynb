{
  "nbformat": 4,
  "nbformat_minor": 0,
  "metadata": {
    "colab": {
      "name": "Mod_03_class_03_edo_monoxido_maio_18_2021.ipynb",
      "provenance": [],
      "authorship_tag": "ABX9TyNqi2dU7n/gq1/j0nQ5sas/",
      "include_colab_link": true
    },
    "kernelspec": {
      "name": "python3",
      "display_name": "Python 3"
    },
    "language_info": {
      "name": "python"
    }
  },
  "cells": [
    {
      "cell_type": "markdown",
      "metadata": {
        "id": "view-in-github",
        "colab_type": "text"
      },
      "source": [
        "<a href=\"https://colab.research.google.com/github/ucfilho/Metodos_Numericos_2021/blob/main/Mod_03_class_03_edo_monoxido_maio_18_2021.ipynb\" target=\"_parent\"><img src=\"https://colab.research.google.com/assets/colab-badge.svg\" alt=\"Open In Colab\"/></a>"
      ]
    },
    {
      "cell_type": "code",
      "metadata": {
        "id": "SiYPs0x7ncQj"
      },
      "source": [
        "import matplotlib.pyplot as plt\n",
        "import numpy as np"
      ],
      "execution_count": 1,
      "outputs": []
    },
    {
      "cell_type": "code",
      "metadata": {
        "id": "vKwQnrOhpBh0"
      },
      "source": [
        "def rk4( f, x0, t ):\n",
        "\n",
        "    n = len( t )\n",
        "    x = np.array( [ x0 ] * n )\n",
        "    for i in range( n - 1 ):\n",
        "        h = t[i+1] - t[i]\n",
        "        k1 = h * f( x[i], t[i] )\n",
        "        k2 = h * f( x[i] + 0.5 * k1, t[i] + 0.5 * h )\n",
        "        k3 = h * f( x[i] + 0.5 * k2, t[i] + 0.5 * h )\n",
        "        k4 = h * f( x[i] + k3, t[i+1] )\n",
        "        x[i+1] = x[i] + ( k1 + 2.0 * ( k2 + k3 ) + k4 ) / 6.0\n",
        "\n",
        "    return x"
      ],
      "execution_count": 2,
      "outputs": []
    },
    {
      "cell_type": "code",
      "metadata": {
        "id": "zUr4OC6JnmTp"
      },
      "source": [
        "def f( x, t ):\n",
        "  Q1 = 0.005\n",
        "  Q2 = 0.8\n",
        "  Vol = 80\n",
        "  derivada = Q1 - Q2*x/Vol\n",
        "\n",
        "  return derivada\n",
        " \n"
      ],
      "execution_count": 3,
      "outputs": []
    },
    {
      "cell_type": "code",
      "metadata": {
        "colab": {
          "base_uri": "https://localhost:8080/",
          "height": 298
        },
        "id": "UqCOg-8qaGu_",
        "outputId": "1b469461-f1bf-454a-e16d-d3dbaf510c9a"
      },
      "source": [
        "  \n",
        "a, b = ( 0.0, 600.0 )\n",
        "x0 = 0.0\n",
        "\n",
        "n = 501\n",
        "t = np.linspace( a, b, n )\n",
        "h = t[1] - t[0];\n",
        "print('h =',h)\n",
        "\n",
        "# compute various numerical solutions\n",
        "x = rk4( f, x0, t )\n",
        "\n",
        "plt.plot(t,x)\n"
      ],
      "execution_count": 4,
      "outputs": [
        {
          "output_type": "stream",
          "text": [
            "h = 1.2\n"
          ],
          "name": "stdout"
        },
        {
          "output_type": "execute_result",
          "data": {
            "text/plain": [
              "[<matplotlib.lines.Line2D at 0x7f4770bc1310>]"
            ]
          },
          "metadata": {
            "tags": []
          },
          "execution_count": 4
        },
        {
          "output_type": "display_data",
          "data": {
            "image/png": "[encoded data removed]",
            "text/plain": [
              "<Figure size 432x288 with 1 Axes>"
            ]
          },
          "metadata": {
            "tags": [],
            "needs_background": "light"
          }
        }
      ]
    },
    {
      "cell_type": "code",
      "metadata": {
        "id": "9sWTPqYSrrCR",
        "colab": {
          "base_uri": "https://localhost:8080/"
        },
        "outputId": "e118ed3d-6712-47d4-ea38-a2561e339db3"
      },
      "source": [
        "print('tempo=',t[n-1],'conc=',x[n-1])"
      ],
      "execution_count": 5,
      "outputs": [
        {
          "output_type": "stream",
          "text": [
            "tempo= 600.0 conc= 0.49876062391036885\n"
          ],
          "name": "stdout"
        }
      ]
    }
  ]
}