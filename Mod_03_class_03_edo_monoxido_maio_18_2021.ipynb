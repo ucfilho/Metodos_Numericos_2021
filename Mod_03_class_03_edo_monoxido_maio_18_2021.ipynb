{
  "nbformat": 4,
  "nbformat_minor": 0,
  "metadata": {
    "colab": {
      "name": "Mod_03_class_03_edo_monoxido_maio_18_2021.ipynb",
      "provenance": [],
      "authorship_tag": "ABX9TyN98H4HSBtCKtLwCWABLV/v",
      "include_colab_link": true
    },
    "kernelspec": {
      "name": "python3",
      "display_name": "Python 3"
    },
    "language_info": {
      "name": "python"
    }
  },
  "cells": [
    {
      "cell_type": "markdown",
      "metadata": {
        "id": "view-in-github",
        "colab_type": "text"
      },
      "source": [
        "<a href=\"https://colab.research.google.com/github/ucfilho/Metodos_Numericos_2021/blob/main/Mod_03_class_03_edo_monoxido_maio_18_2021.ipynb\" target=\"_parent\"><img src=\"https://colab.research.google.com/assets/colab-badge.svg\" alt=\"Open In Colab\"/></a>"
      ]
    },
    {
      "cell_type": "code",
      "metadata": {
        "id": "SiYPs0x7ncQj"
      },
      "source": [
        "import matplotlib.pyplot as plt\n",
        "import numpy as np"
      ],
      "execution_count": 1,
      "outputs": []
    },
    {
      "cell_type": "code",
      "metadata": {
        "id": "vKwQnrOhpBh0"
      },
      "source": [
        "def rk4( f, t0, tf,x0, h =0.001): \n",
        "\n",
        "    n = int((tf -t0)/h + 1) \n",
        "    x = np.array( [ x0 ] * n )\n",
        "    t = np.linspace( t0, tf, n )\n",
        "\n",
        "    for i in range( n - 1 ):\n",
        "        k1 = h * f( x[i], t[i] )\n",
        "        k2 = h * f( x[i] + 0.5 * k1, t[i] + 0.5 * h )\n",
        "        k3 = h * f( x[i] + 0.5 * k2, t[i] + 0.5 * h )\n",
        "        k4 = h * f( x[i] + k3, t[i+1] )\n",
        "        x[i+1] = x[i] + ( k1 + 2.0 * ( k2 + k3 ) + k4 ) / 6.0\n",
        "\n",
        "    return t,x"
      ],
      "execution_count": 2,
      "outputs": []
    },
    {
      "cell_type": "code",
      "metadata": {
        "id": "zUr4OC6JnmTp"
      },
      "source": [
        "def f( x, t ):\n",
        "  Q1 = 0.005\n",
        "  Q2 = 0.8\n",
        "  Vol = 80\n",
        "  derivada = Q1 - Q2*x/Vol\n",
        "\n",
        "  return derivada\n",
        " \n"
      ],
      "execution_count": 3,
      "outputs": []
    },
    {
      "cell_type": "code",
      "metadata": {
        "colab": {
          "base_uri": "https://localhost:8080/",
          "height": 282
        },
        "id": "UqCOg-8qaGu_",
        "outputId": "ecf291f8-73c7-49a8-e131-b39a1f76793c"
      },
      "source": [
        "  \n",
        "\n",
        "t0 = 0.0\n",
        "x0 = 0.0\n",
        "tf = 600\n",
        "# h = 0.2\n",
        "\n",
        "# compute various numerical solutions\n",
        "# t, x = rk4( f, t0, tf,x0, h)\n",
        "t, x = rk4( f, t0, tf,x0)\n",
        "plt.plot(t,x)\n"
      ],
      "execution_count": 4,
      "outputs": [
        {
          "output_type": "execute_result",
          "data": {
            "text/plain": [
              "[<matplotlib.lines.Line2D at 0x7ff31b898dd0>]"
            ]
          },
          "metadata": {
            "tags": []
          },
          "execution_count": 4
        },
        {
          "output_type": "display_data",
          "data": {
            "image/png": "[encoded data removed]",
            "text/plain": [
              "<Figure size 432x288 with 1 Axes>"
            ]
          },
          "metadata": {
            "tags": [],
            "needs_background": "light"
          }
        }
      ]
    },
    {
      "cell_type": "code",
      "metadata": {
        "id": "9sWTPqYSrrCR",
        "colab": {
          "base_uri": "https://localhost:8080/"
        },
        "outputId": "1cba32a2-5c39-4812-cd64-33c7cbb48e34"
      },
      "source": [
        "print('tempo=',t[-1],'conc=',x[-1])"
      ],
      "execution_count": 5,
      "outputs": [
        {
          "output_type": "stream",
          "text": [
            "tempo= 600.0 conc= 0.4987606239116657\n"
          ],
          "name": "stdout"
        }
      ]
    },
    {
      "cell_type": "code",
      "metadata": {
        "colab": {
          "base_uri": "https://localhost:8080/"
        },
        "id": "P6VPQfpxgaBE",
        "outputId": "a505988c-c172-44a1-87e7-a990aebd57e3"
      },
      "source": [
        "len(t)"
      ],
      "execution_count": 6,
      "outputs": [
        {
          "output_type": "execute_result",
          "data": {
            "text/plain": [
              "3001"
            ]
          },
          "metadata": {
            "tags": []
          },
          "execution_count": 6
        }
      ]
    }
  ]
}