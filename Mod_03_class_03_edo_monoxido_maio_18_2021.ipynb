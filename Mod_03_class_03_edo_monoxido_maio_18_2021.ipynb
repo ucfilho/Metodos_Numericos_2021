{
  "nbformat": 4,
  "nbformat_minor": 0,
  "metadata": {
    "colab": {
      "name": "Mod_03_class_03_edo_monoxido_maio_18_2021.ipynb",
      "provenance": [],
      "authorship_tag": "ABX9TyMWthaI9/ZpThAgSO/xNKDe",
      "include_colab_link": true
    },
    "kernelspec": {
      "name": "python3",
      "display_name": "Python 3"
    },
    "language_info": {
      "name": "python"
    }
  },
  "cells": [
    {
      "cell_type": "markdown",
      "metadata": {
        "id": "view-in-github",
        "colab_type": "text"
      },
      "source": [
        "<a href=\"https://colab.research.google.com/github/ucfilho/Metodos_Numericos_2021/blob/main/Mod_03_class_03_edo_monoxido_maio_18_2021.ipynb\" target=\"_parent\"><img src=\"https://colab.research.google.com/assets/colab-badge.svg\" alt=\"Open In Colab\"/></a>"
      ]
    },
    {
      "cell_type": "code",
      "metadata": {
        "id": "SiYPs0x7ncQj"
      },
      "source": [
        "import matplotlib.pyplot as plt\n",
        "import numpy as np"
      ],
      "execution_count": 1,
      "outputs": []
    },
    {
      "cell_type": "code",
      "metadata": {
        "id": "vKwQnrOhpBh0"
      },
      "source": [
        "def rk4( f, t0, tf,x0, h =0.001): \n",
        "\n",
        "    n = int((tf -t0)/h + 1) \n",
        "    x = np.array( [ x0 ] * n )\n",
        "    t = np.linspace( t0, tf, n )\n",
        "\n",
        "    for i in range( n - 1 ):\n",
        "        k1 = h * f( x[i], t[i] )\n",
        "        k2 = h * f( x[i] + 0.5 * k1, t[i] + 0.5 * h )\n",
        "        k3 = h * f( x[i] + 0.5 * k2, t[i] + 0.5 * h )\n",
        "        k4 = h * f( x[i] + k3, t[i+1] )\n",
        "        x[i+1] = x[i] + ( k1 + 2.0 * ( k2 + k3 ) + k4 ) / 6.0\n",
        "\n",
        "    return t,x"
      ],
      "execution_count": 2,
      "outputs": []
    },
    {
      "cell_type": "code",
      "metadata": {
        "id": "zUr4OC6JnmTp"
      },
      "source": [
        "def f( x, t ):\n",
        "  Q1 = 0.005\n",
        "  Q2 = 0.8\n",
        "  Vol = 80\n",
        "  derivada = Q1 - Q2*x/Vol\n",
        "\n",
        "  return derivada\n",
        " \n"
      ],
      "execution_count": 3,
      "outputs": []
    },
    {
      "cell_type": "code",
      "metadata": {
        "colab": {
          "base_uri": "https://localhost:8080/",
          "height": 282
        },
        "id": "UqCOg-8qaGu_",
        "outputId": "190e9d52-31c2-45c4-e599-7656fd35b191"
      },
      "source": [
        "  \n",
        "\n",
        "t0 = 0.0\n",
        "x0 = 0.0\n",
        "tf = 600\n",
        "h = 0.2\n",
        "\n",
        "# compute various numerical solutions\n",
        "t, x = rk4( f, t0, tf,x0, h)\n",
        "\n",
        "plt.plot(t,x)\n"
      ],
      "execution_count": 4,
      "outputs": [
        {
          "output_type": "execute_result",
          "data": {
            "text/plain": [
              "[<matplotlib.lines.Line2D at 0x7efc3764dc90>]"
            ]
          },
          "metadata": {
            "tags": []
          },
          "execution_count": 4
        },
        {
          "output_type": "display_data",
          "data": {
            "image/png": "[encoded data removed]",
            "text/plain": [
              "<Figure size 432x288 with 1 Axes>"
            ]
          },
          "metadata": {
            "tags": [],
            "needs_background": "light"
          }
        }
      ]
    },
    {
      "cell_type": "code",
      "metadata": {
        "id": "9sWTPqYSrrCR",
        "colab": {
          "base_uri": "https://localhost:8080/"
        },
        "outputId": "af3a310b-3515-4235-a395-4362966fe11e"
      },
      "source": [
        "print('tempo=',t[-1],'conc=',x[-1])"
      ],
      "execution_count": 5,
      "outputs": [
        {
          "output_type": "stream",
          "text": [
            "tempo= 600.0 conc= 0.498760623911662\n"
          ],
          "name": "stdout"
        }
      ]
    },
    {
      "cell_type": "code",
      "metadata": {
        "colab": {
          "base_uri": "https://localhost:8080/"
        },
        "id": "P6VPQfpxgaBE",
        "outputId": "c62c7c3c-feb2-4d05-85e7-66a26f9d7856"
      },
      "source": [
        "len(t)"
      ],
      "execution_count": 6,
      "outputs": [
        {
          "output_type": "execute_result",
          "data": {
            "text/plain": [
              "600001"
            ]
          },
          "metadata": {
            "tags": []
          },
          "execution_count": 6
        }
      ]
    }
  ]
}